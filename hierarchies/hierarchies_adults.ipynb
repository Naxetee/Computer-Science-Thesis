{
 "cells": [
  {
   "cell_type": "markdown",
   "metadata": {},
   "source": [
    "# Creación de Jerarquías"
   ]
  },
  {
   "cell_type": "markdown",
   "metadata": {},
   "source": [
    "Una **jerarquía de generalización** es una estructura que define niveles de abstracción para un atributo en un dataset. Se usa para anonimizar datos manteniendo la utilidad, agrupando valores detallados en categorías más generales.\n",
    "\n",
    "Ejemplo con la edad:\n",
    "\n",
    "Edad original | Nivel 1 (más detallado) | Nivel 2 (más general) | Nivel 3 (muy general)\n",
    "--- | --- | --- | ---\n",
    "23 | 20-30 | 20-40 | *\n",
    "27 | 20-30 | 20-40 | *\n",
    "45 | 40-50 | 40-60 | *\n",
    "51 | 50-60 | 40-60 | *\n",
    "\n",
    "Aquí, la edad se generaliza en rangos para evitar identificar a personas específicas."
   ]
  },
  {
   "cell_type": "markdown",
   "metadata": {},
   "source": [
    "### Atributos Numéricos"
   ]
  },
  {
   "cell_type": "markdown",
   "metadata": {},
   "source": [
    "Para los atributos numéricos se pueden usar rangos, aquí abajo definimos una función que crea jerarquías de generalización para un atributo numérico en un dataset. Para ello, se toma el mínimo y máximo valor del atributo y a cada nivel se le adjudica una lista de rangos de igual tamaño, pero cada vez más grandes, esto es, menos detallados."
   ]
  },
  {
   "cell_type": "code",
   "execution_count": 1,
   "metadata": {},
   "outputs": [],
   "source": [
    "from csv import  writer\n",
    "import os\n",
    "\n",
    "# Definir los niveles de jerarquía para un atributo numérico\n",
    "def generate_num_hierarchy(start_from : int, end_at : int, steps : list, offset : int = 1, filename : str = None) -> None:\n",
    "    \"\"\"\n",
    "    Genera una jerarquía de niveles para un atributo numérico.\n",
    "    :param start_from: Número inicial\n",
    "    :param end_at: Número final\n",
    "    :param steps: Lista de pasos para cada nivel\n",
    "    :param offset: Incremento entre los valores del atributo, si no se proporciona se asume 1\n",
    "    :param filename: Nombre del archivo donde se guardará la jerarquía, si no se proporciona se imprime en consola\n",
    "    \"\"\"\n",
    "\n",
    "    directory = filename.split(\"/\")[:-1]\n",
    "    directory = \"/\".join(directory)\n",
    "\n",
    "    if not os.path.exists(directory):\n",
    "        print(f\"Creado el directorio {directory}\")\n",
    "        os.makedirs(directory)\n",
    "\n",
    "    hierarchy = []\n",
    "    for num in range(start_from, end_at, offset):\n",
    "        levels = []\n",
    "        for step in steps:\n",
    "            level = f\"{(num//step)*step}-{(num//step)*step+step-1}\"\n",
    "            levels.append(level)\n",
    "        levels.append(\"*\")\n",
    "        hierarchy.extend([[num] + levels])\n",
    "    \n",
    "    headers = [\"Original\"] + [f\"Nivel{i+1}\" for i in range(len(steps)+1)]\n",
    "    if filename:\n",
    "        with open(filename, mode=\"w\", newline=\"\") as file:\n",
    "            csvwriter = writer(file)\n",
    "            csvwriter.writerow(headers)  # Encabezados\n",
    "            csvwriter.writerows(hierarchy)\n",
    "        print(f\"Jerarquía guardada en {filename}\")\n",
    "    else:\n",
    "        print(headers)\n",
    "        for elem in hierarchy:\n",
    "            print(elem)\n",
    "            print()"
   ]
  },
  {
   "cell_type": "markdown",
   "metadata": {},
   "source": [
    "Apliquemos esta función sobre los atributos numéticos del Adults' Income Dataset."
   ]
  },
  {
   "cell_type": "code",
   "execution_count": 2,
   "metadata": {},
   "outputs": [
    {
     "name": "stdout",
     "output_type": "stream",
     "text": [
      "Jerarquía guardada en ../data/adults/hierarchies/age_hierarchy.csv\n"
     ]
    }
   ],
   "source": [
    "hierarchies_folder = \"../data/adults/hierarchies/\"\n",
    "\n",
    "# Generar y exportar la jerarquía para 'age'\n",
    "generate_num_hierarchy(0,100,[5,10,20,40], filename=f\"{hierarchies_folder}age_hierarchy.csv\")"
   ]
  },
  {
   "cell_type": "code",
   "execution_count": 3,
   "metadata": {},
   "outputs": [
    {
     "name": "stdout",
     "output_type": "stream",
     "text": [
      "Jerarquía guardada en ../data/adults/hierarchies/fnlwgt_hierarchy.csv\n"
     ]
    }
   ],
   "source": [
    "# Generar y exportar la jerarquía para 'fnlwgt'\n",
    "generate_num_hierarchy(0,1500000,[5000,10000,30000,60000,120000], offset=100, filename=f\"{hierarchies_folder}fnlwgt_hierarchy.csv\")"
   ]
  },
  {
   "cell_type": "code",
   "execution_count": 4,
   "metadata": {},
   "outputs": [
    {
     "name": "stdout",
     "output_type": "stream",
     "text": [
      "Jerarquía guardada en ../data/adults/hierarchies/hours-per-week_hierarchy.csv\n"
     ]
    }
   ],
   "source": [
    "# Generar y exportar la jerarquía para 'hours-per-week'\n",
    "generate_num_hierarchy(0,100,[5,10,20,40], filename=f\"{hierarchies_folder}hours-per-week_hierarchy.csv\")"
   ]
  },
  {
   "cell_type": "code",
   "execution_count": null,
   "metadata": {},
   "outputs": [
    {
     "name": "stdout",
     "output_type": "stream",
     "text": [
      "Jerarquía guardada en ../data/adults/hierarchies/capital-gain_hierarchy.csv\n",
      "Jerarquía guardada en ../data/adults/hierarchies/capital-loss_hierarchy.csv\n"
     ]
    }
   ],
   "source": [
    "# Generar y exportar la jerarquía para 'capital-gain' y 'capital-loss'\n",
    "generate_num_hierarchy(0,100000,[1000,5000,10000,20000], offset= 100, filename=f\"{hierarchies_folder}capital-gain_hierarchy.csv\")\n",
    "generate_num_hierarchy(0,5000,[250,500,1000,2000], offset= 10, filename=f\"{hierarchies_folder}capital-loss_hierarchy.csv\")\n"
   ]
  },
  {
   "cell_type": "code",
   "execution_count": 24,
   "metadata": {},
   "outputs": [
    {
     "name": "stdout",
     "output_type": "stream",
     "text": [
      "Jerarquía guardada en ../data/adults/hierarchies/education-num_hierarchy.csv\n"
     ]
    }
   ],
   "source": [
    "# Generar y exportar la jerarquía para 'education-num'\n",
    "generate_num_hierarchy(0,20,[2,4,8], filename=f\"{hierarchies_folder}education-num_hierarchy.csv\")\n"
   ]
  },
  {
   "cell_type": "markdown",
   "metadata": {},
   "source": [
    "### Atributos Catetóricos "
   ]
  },
  {
   "cell_type": "markdown",
   "metadata": {},
   "source": [
    "Definimos ahora una función para los atributos categóricos. En este caso, se toman los valores distintos y se busca una jerarquía de generalización semántica, es decir, que está relacionada con el significado de los valores. Por ejemplo, para el atributo \"education\" se podría definir una jerarquía de generalización como:\n",
    "\n",
    "Edad original | Nivel 1 (más detallado) | Nivel 2 (más general) | Nivel 3 (muy general)\n",
    "--- | --- | --- | ---\n",
    "Bachelors | University | Higher Education | *\n",
    "Doctorate | University | Higher Education | *\n",
    "HS-grad | High School | Lower Education | *\n",
    "12th | High School | Lower Education | *\n",
    "Some-college | College | Higher Education | *\n",
    "Assoc-acdm | Associate Degree | Higher Education | *\n",
    "Assoc-voc | Associate Degree | Higher Education | *\n",
    "9th | Primary School | Lower Education | *\n",
    "1st-4th | Primary School | Lower Education | *\n",
    "Preschool | Primary School | Lower Education | *\n",
    "\n"
   ]
  },
  {
   "cell_type": "code",
   "execution_count": 25,
   "metadata": {},
   "outputs": [],
   "source": [
    "# Función para guardar una jerarquía de atributo categórico en CSV\n",
    "def generate_cat_hierarchy(hierarchy_data : list, levels : int = 3, filename : str = None) -> None:\n",
    "    \"\"\"\n",
    "    Guarda una jerarquía de atributo categórico en un archivo CSV.\n",
    "    :param hierarchy_data: Lista con los datos de la jerarquía\n",
    "    :param levels: Número de niveles de la jerarquía, por defecto 3\n",
    "    :param filename: Nombre del archivo donde se guardará la jerarquía, si no se proporciona se imprime en consola\n",
    "    \"\"\"\n",
    "\n",
    "    directory = filename.split(\"/\")[:-1]\n",
    "    directory = \"/\".join(directory)\n",
    "\n",
    "    if not os.path.exists(directory):\n",
    "        print(f\"Creado el directorio {directory}\")\n",
    "        os.makedirs(directory)\n",
    "\n",
    "    headers = [\"Original\"] + [f\"Nivel{i+1}\" for i in range(levels)]\n",
    "    if filename is None:\n",
    "        print(\"Original \", \"Nivel1 \", \"Nivel2 \", \"Nivel3\")\n",
    "        for elem in hierarchy_data:\n",
    "            print(elem)\n",
    "            print()\n",
    "        return\n",
    "    else:\n",
    "        with open(filename, mode=\"w\", newline=\"\") as file:\n",
    "            csvwriterwriter = writer(file)\n",
    "            csvwriterwriter.writerow(headers)  # Encabezados\n",
    "            csvwriterwriter.writerows(hierarchy_data)\n",
    "        print(f\"Jerarquía guardada en {filename}\")"
   ]
  },
  {
   "cell_type": "code",
   "execution_count": 26,
   "metadata": {},
   "outputs": [
    {
     "name": "stdout",
     "output_type": "stream",
     "text": [
      "Jerarquía guardada en ../data/adults/hierarchies/workclass_hierarchy.csv\n"
     ]
    }
   ],
   "source": [
    "# Jerarquía de workclass\n",
    "workclass_hierarchy = [\n",
    "    [\"State-gov\", \"Government\", \"Employed\", \"*\"],\n",
    "    [\"Federal-gov\", \"Government\", \"Employed\", \"*\"],\n",
    "    [\"Local-gov\", \"Government\", \"Employed\", \"*\"],\n",
    "    [\"Private\", \"Private\", \"Employed\", \"*\"],\n",
    "    [\"Self-emp-not-inc\", \"Self-employed\", \"Employed\", \"*\"],\n",
    "    [\"Self-emp-inc\", \"Self-employed\", \"Employed\", \"*\"],\n",
    "    [\"Without-pay\", \"Unemployed\", \"Unemployed\", \"*\"],\n",
    "    [\"Never-worked\", \"Unemployed\", \"Unemployed\", \"*\"],\n",
    "    [\"?\", \"Unknown\", \"Unknown\", \"*\"]\n",
    "]\n",
    "generate_cat_hierarchy(workclass_hierarchy, filename=f\"{hierarchies_folder}workclass_hierarchy.csv\")"
   ]
  },
  {
   "cell_type": "code",
   "execution_count": 27,
   "metadata": {},
   "outputs": [
    {
     "name": "stdout",
     "output_type": "stream",
     "text": [
      "Jerarquía guardada en ../data/adults/hierarchies/education_hierarchy.csv\n"
     ]
    }
   ],
   "source": [
    "# Jerarquía de education\n",
    "education_hierarchy = [\n",
    "    [\"Bachelors\", \"University\", \"Higher Education\", \"*\"],\n",
    "    [\"Masters\", \"University\", \"Higher Education\", \"*\"],\n",
    "    [\"Doctorate\", \"University\", \"Higher Education\", \"*\"],\n",
    "    [\"Prof-school\", \"University\", \"Higher Education\", \"*\"],\n",
    "    [\"HS-grad\", \"High School\", \"Lower Education\", \"*\"],\n",
    "    [\"11th\", \"High School\", \"Lower Education\", \"*\"],\n",
    "    [\"10th\", \"High School\", \"Lower Education\", \"*\"],\n",
    "    [\"12th\", \"High School\", \"Lower Education\", \"*\"],\n",
    "    [\"Some-college\", \"College\", \"Higher Education\", \"*\"],\n",
    "    [\"Assoc-acdm\", \"Associate Degree\", \"Higher Education\", \"*\"],\n",
    "    [\"Assoc-voc\", \"Associate Degree\", \"Higher Education\", \"*\"],\n",
    "    [\"9th\", \"Primary School\", \"Lower Education\", \"*\"],\n",
    "    [\"7th-8th\", \"Primary School\", \"Lower Education\", \"*\"],\n",
    "    [\"5th-6th\", \"Primary School\", \"Lower Education\", \"*\"],\n",
    "    [\"1st-4th\", \"Primary School\", \"Lower Education\", \"*\"],\n",
    "    [\"Preschool\", \"Primary School\", \"Lower Education\", \"*\"]\n",
    "]\n",
    "generate_cat_hierarchy(education_hierarchy, filename=f\"{hierarchies_folder}education_hierarchy.csv\")"
   ]
  },
  {
   "cell_type": "code",
   "execution_count": 28,
   "metadata": {},
   "outputs": [
    {
     "name": "stdout",
     "output_type": "stream",
     "text": [
      "Jerarquía guardada en ../data/adults/hierarchies/marital-status_hierarchy.csv\n"
     ]
    }
   ],
   "source": [
    "# Jerarquía de marital-status\n",
    "marital_hierarchy = [\n",
    "    [\"Married-civ-spouse\", \"Married\", \"In Relationship\", \"*\"],\n",
    "    [\"Married-AF-spouse\", \"Married\", \"In Relationship\", \"*\"],\n",
    "    [\"Never-married\", \"Single\", \"Not Married\", \"*\"],\n",
    "    [\"Divorced\", \"Divorced/Widowed\", \"Not Married\", \"*\"],\n",
    "    [\"Separated\", \"Divorced/Widowed\", \"Not Married\", \"*\"],\n",
    "    [\"Widowed\", \"Divorced/Widowed\", \"Not Married\", \"*\"],\n",
    "    [\"Married-spouse-absent\", \"Divorced/Widowed\", \"Not Married\", \"*\"]\n",
    "]\n",
    "generate_cat_hierarchy(marital_hierarchy, filename=f\"{hierarchies_folder}marital-status_hierarchy.csv\")"
   ]
  },
  {
   "cell_type": "code",
   "execution_count": 29,
   "metadata": {},
   "outputs": [
    {
     "name": "stdout",
     "output_type": "stream",
     "text": [
      "Jerarquía guardada en ../data/adults/hierarchies/occupation_hierarchy.csv\n"
     ]
    }
   ],
   "source": [
    "# Jerarquía de occupation\n",
    "occupation_hierarchy = [\n",
    "    [\"Exec-managerial\", \"Professional\", \"White Collar\", \"*\"],\n",
    "    [\"Prof-specialty\", \"Professional\", \"White Collar\", \"*\"],\n",
    "    [\"Adm-clerical\", \"Office Jobs\", \"White Collar\", \"*\"],\n",
    "    [\"Tech-support\", \"Office Jobs\", \"White Collar\", \"*\"],\n",
    "    [\"Sales\", \"Service Jobs\", \"White Collar\", \"*\"],\n",
    "    [\"Protective-serv\", \"Service Jobs\", \"White Collar\", \"*\"],\n",
    "    [\"Other-service\", \"Service Jobs\", \"White Collar\", \"*\"],\n",
    "    [\"Machine-op-inspct\", \"Manual Labor\", \"Blue Collar\", \"*\"],\n",
    "    [\"Craft-repair\", \"Manual Labor\", \"Blue Collar\", \"*\"],\n",
    "    [\"Transport-moving\", \"Manual Labor\", \"Blue Collar\", \"*\"],\n",
    "    [\"Farming-fishing\", \"Manual Labor\", \"Blue Collar\", \"*\"],\n",
    "    [\"Handlers-cleaners\", \"Low Wage Jobs\", \"Blue Collar\", \"*\"],\n",
    "    [\"Priv-house-serv\", \"Low Wage Jobs\", \"Blue Collar\", \"*\"],\n",
    "    [\"Armed-Forces\", \"Military\", \"Other\", \"*\"],\n",
    "    [\"?\", \"Unknown\", \"Unknown\", \"*\"]\n",
    "]\n",
    "generate_cat_hierarchy(occupation_hierarchy, filename=f\"{hierarchies_folder}occupation_hierarchy.csv\")"
   ]
  },
  {
   "cell_type": "code",
   "execution_count": 30,
   "metadata": {},
   "outputs": [
    {
     "name": "stdout",
     "output_type": "stream",
     "text": [
      "Jerarquía guardada en ../data/adults/hierarchies/relationship_hierarchy.csv\n"
     ]
    }
   ],
   "source": [
    "# Jerarquía de relationship\n",
    "relationship_hierarchy = [\n",
    "    [\"Husband\", \"Married\", \"*\"],\n",
    "    [\"Wife\", \"Married\", \"*\"],\n",
    "    [\"Own-child\", \"Child\", \"*\"],\n",
    "    [\"Not-in-family\", \"Other\", \"*\"],\n",
    "    [\"Other-relative\", \"Other\", \"*\"],\n",
    "    [\"Unmarried\", \"Other\", \"*\"]\n",
    "]\n",
    "generate_cat_hierarchy(relationship_hierarchy, levels=2, filename=f\"{hierarchies_folder}relationship_hierarchy.csv\")"
   ]
  },
  {
   "cell_type": "code",
   "execution_count": 31,
   "metadata": {},
   "outputs": [
    {
     "name": "stdout",
     "output_type": "stream",
     "text": [
      "Jerarquía guardada en ../data/adults/hierarchies/race_hierarchy.csv\n"
     ]
    }
   ],
   "source": [
    "# Jerarquía de race\n",
    "race_hierarchy = [\n",
    "    [\"White\", \"White\", \"*\"],\n",
    "    [\"Black\", \"Black\", \"*\"],\n",
    "    [\"Asian-Pac-Islander\", \"Asian\", \"*\"],\n",
    "    [\"Amer-Indian-Eskimo\", \"Indigenous\", \"*\"],\n",
    "    [\"Other\", \"Other\", \"*\"]\n",
    "]\n",
    "generate_cat_hierarchy(race_hierarchy, levels=2, filename=f\"{hierarchies_folder}race_hierarchy.csv\")"
   ]
  },
  {
   "cell_type": "code",
   "execution_count": 32,
   "metadata": {},
   "outputs": [
    {
     "name": "stdout",
     "output_type": "stream",
     "text": [
      "Jerarquía guardada en ../data/adults/hierarchies/sex_hierarchy.csv\n"
     ]
    }
   ],
   "source": [
    "# Jerarquía de sex\n",
    "sex_hierarchy = [\n",
    "    [\"Male\", \"*\"],\n",
    "    [\"Female\", \"*\"]\n",
    "]\n",
    "generate_cat_hierarchy(sex_hierarchy, levels=1, filename=f\"{hierarchies_folder}sex_hierarchy.csv\")"
   ]
  },
  {
   "cell_type": "code",
   "execution_count": null,
   "metadata": {},
   "outputs": [
    {
     "name": "stdout",
     "output_type": "stream",
     "text": [
      "Jerarquía guardada en ../data/adults/hierarchies/native-country_hierarchy.csv\n"
     ]
    }
   ],
   "source": [
    "# Jerarquía de native-country\n",
    "country_hierarchy = [\n",
    "    [\"United-States\", \"North America\", \"America\", \"*\"],\n",
    "    [\"Canada\", \"North America\", \"America\", \"*\"],\n",
    "    [\"Mexico\", \"North America\", \"America\", \"*\"],\n",
    "    [\"Cuba\", \"Latin America\", \"America\", \"*\"],\n",
    "    [\"Jamaica\", \"Latin America\", \"America\", \"*\"],\n",
    "    [\"Puerto-Rico\", \"Latin America\", \"America\", \"*\"],\n",
    "    [\"Haiti\", \"Latin America\", \"America\", \"*\"],\n",
    "    [\"Dominican-Republic\", \"Latin America\", \"America\", \"*\"],\n",
    "    [\"Honduras\", \"Latin America\", \"America\", \"*\"],\n",
    "    [\"El-Salvador\", \"Latin America\", \"America\", \"*\"],\n",
    "    [\"Guatemala\", \"Latin America\", \"America\", \"*\"],\n",
    "    [\"Nicaragua\", \"Latin America\", \"America\", \"*\"],\n",
    "    [\"Columbia\", \"Latin America\", \"America\", \"*\"],\n",
    "    [\"Ecuador\", \"Latin America\", \"America\", \"*\"],\n",
    "    [\"Peru\", \"Latin America\", \"America\", \"*\"],\n",
    "    [\"England\", \"Europe\", \"Europe\", \"*\"],\n",
    "    [\"Germany\", \"Europe\", \"Europe\", \"*\"],\n",
    "    [\"France\", \"Europe\", \"Europe\", \"*\"],\n",
    "    [\"Poland\", \"Europe\", \"Europe\", \"*\"],\n",
    "    [\"China\", \"Asia\", \"Asia\", \"*\"],\n",
    "    [\"Japan\", \"Asia\", \"Asia\", \"*\"],\n",
    "    [\"India\", \"Asia\", \"Asia\", \"*\"],\n",
    "    [\"Iran\", \"Asia\", \"Asia\", \"*\"],\n",
    "    [\"Vietnam\", \"Asia\", \"Asia\", \"*\"],\n",
    "    [\"Philippines\", \"Asia\", \"Asia\", \"*\"],\n",
    "    [\"Thailand\", \"Asia\", \"Asia\", \"*\"],\n",
    "    [\"Taiwan\", \"Asia\", \"Asia\", \"*\"],\n",
    "    [\"South\", \"Asia\", \"Asia\", \"*\"],\n",
    "    [\"Scotland\", \"Europe\", \"Europe\", \"*\"],\n",
    "    [\"Portugal\", \"Europe\", \"Europe\", \"*\"],\n",
    "    [\"Italy\", \"Europe\", \"Europe\", \"*\"],\n",
    "    [\"Ireland\", \"Europe\", \"Europe\", \"*\"],\n",
    "    [\"Hungary\", \"Europe\", \"Europe\", \"*\"],\n",
    "    [\"Hong\", \"Asia\", \"Asia\", \"*\"],\n",
    "    [\"Greece\", \"Europe\", \"Europe\", \"*\"],\n",
    "    [\"Cambodia\", \"Asia\", \"Asia\", \"*\"],\n",
    "    [\"Laos\", \"Asia\", \"Asia\", \"*\"],\n",
    "    [\"Trinadad&Tobago\", \"Latin America\", \"America\", \"*\"],\n",
    "    [\"Yugoslavia\", \"Europe\", \"Europe\", \"*\"],\n",
    "    [\"Outlying-US(Guam-USVI-etc)\", \"North America\", \"America\", \"*\"],\n",
    "    [\"Holand-Netherlands\", \"Europe\", \"Europe\", \"*\"],\n",
    "    [\"?\", \"Unknown\", \"Unknown\", \"*\"]\n",
    "]\n",
    "generate_cat_hierarchy(country_hierarchy, filename=f\"{hierarchies_folder}native-country_hierarchy.csv\")"
   ]
  },
  {
   "cell_type": "markdown",
   "metadata": {},
   "source": [
    "### Exportación de Jerarquías"
   ]
  },
  {
   "cell_type": "markdown",
   "metadata": {},
   "source": [
    "Se han exportado las jerarquías de generalización en archivos CSV ubicados en `../data/adults/hierarchies/` para su importación en otros notebooks."
   ]
  }
 ],
 "metadata": {
  "kernelspec": {
   "display_name": "base",
   "language": "python",
   "name": "python3"
  },
  "language_info": {
   "codemirror_mode": {
    "name": "ipython",
    "version": 3
   },
   "file_extension": ".py",
   "mimetype": "text/x-python",
   "name": "python",
   "nbconvert_exporter": "python",
   "pygments_lexer": "ipython3",
   "version": "3.9.13"
  }
 },
 "nbformat": 4,
 "nbformat_minor": 2
}
