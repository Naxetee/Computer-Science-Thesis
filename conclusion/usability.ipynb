{
 "cells": [
  {
   "cell_type": "code",
   "execution_count": 23,
   "id": "7cee8b7e",
   "metadata": {},
   "outputs": [],
   "source": [
    "import os\n",
    "import re\n",
    "import pandas as pd\n",
    "import numpy as np\n",
    "import plotly.express as px\n",
    "import plotly.graph_objects as go\n",
    "import ipywidgets as widgets\n",
    "from IPython.display import display\n",
    "from scipy.interpolate import griddata\n",
    "\n"
   ]
  },
  {
   "cell_type": "code",
   "execution_count": 24,
   "id": "6b04a8eb",
   "metadata": {},
   "outputs": [],
   "source": [
    "usability_dict = {}\n",
    "qids = 12\n",
    "usability_results_path = f'../data/adults/results/usability/{qids}_qids/'\n",
    "\n",
    "# Tomamos los archivos de la forma k_{k}-l_{l}-t_{t}-results.csv\n",
    "pattern = re.compile(r'k_\\d+-l_\\d+-t_(\\d+\\.\\d+|\\d+)-results\\.csv')\n",
    "for f in [f for f in os.listdir(usability_results_path) if pattern.fullmatch(f)]:\n",
    "    # Extraemos los valores de k, l y t (teniendo en cuenta que t es un float)\n",
    "    k, l, t = map(float, re.findall(r'\\d+\\.\\d+|\\d+', f))\n",
    "    # Creamos una clave para el diccionario\n",
    "    key = (int(k), int(l), float(t))\n",
    "    # Leemos el archivo y lo guardamos en el diccionario como dataframe (la primera fila es el nombre de las columnas y no hay índice)\n",
    "    usability_dict[key] = pd.read_csv(os.path.join(usability_results_path, f))    "
   ]
  },
  {
   "cell_type": "code",
   "execution_count": 25,
   "id": "37ecd021",
   "metadata": {},
   "outputs": [],
   "source": [
    "k_all_values = [1, 2, 4, 8, 16, 32, 64]\n",
    "l_all_values = [1, 2]\n",
    "t_all_values = [0.1, 0.2, 0.3, 0.4, 0.5, 0.6, 0.7, 0.8, 0.9, 1]\n",
    "for k in k_all_values:\n",
    "        for l in l_all_values:\n",
    "            for t in t_all_values:\n",
    "                key = (k, l, t)\n",
    "                if key not in usability_dict:\n",
    "                    raise Exception(f'No se ha encontrado el archivo para k={k}, l={l}, t={t}')"
   ]
  },
  {
   "cell_type": "markdown",
   "id": "3ec8f621",
   "metadata": {},
   "source": [
    "### Resultados de aplicar únicamente k-anonimización\n",
    "\n",
    "La siguiente gráfica muestra la distribución de la métrica `accuracy` y `precision` para diferentes valores de k, manteniendo l=1 y t=0, es decir, aplicando solo k-anonimización sobre los datos."
   ]
  },
  {
   "cell_type": "code",
   "execution_count": 31,
   "id": "7d29dbbf",
   "metadata": {},
   "outputs": [
    {
     "data": {
      "application/vnd.plotly.v1+json": {
       "config": {
        "plotlyServerURL": "https://plot.ly"
       },
       "data": [
        {
         "line": {
          "color": "#636efa",
          "width": 3
         },
         "marker": {
          "size": 10
         },
         "mode": "lines+markers",
         "name": "Accuracy",
         "showlegend": true,
         "type": "scatter",
         "x": {
          "bdata": "AQIECBAgQA==",
          "dtype": "i1"
         },
         "y": {
          "bdata": "aBmCSzpU7D80mHs9d9/jP6jJGJmNbOM/X2rxhK5w4z/EQkwezFbmPzKSwXgNPuU/WP2VZ78v5j8=",
          "dtype": "f8"
         }
        },
        {
         "line": {
          "color": "#EF553B",
          "width": 3
         },
         "marker": {
          "size": 10
         },
         "mode": "lines+markers",
         "name": "Precision",
         "showlegend": true,
         "type": "scatter",
         "x": {
          "bdata": "AQIECBAgQA==",
          "dtype": "i1"
         },
         "y": {
          "bdata": "dYJnnTEJ6j90kSEv9/3JP/tyuVcbqNA/IShMSC1wzD+q+Gnr17XMP6Un6Ul6ks4/bx375ePg0T8=",
          "dtype": "f8"
         }
        },
        {
         "line": {
          "color": "#00cc96",
          "width": 3
         },
         "marker": {
          "size": 10
         },
         "mode": "lines+markers",
         "name": "Recall",
         "showlegend": true,
         "type": "scatter",
         "x": {
          "bdata": "AQIECBAgQA==",
          "dtype": "i1"
         },
         "y": {
          "bdata": "dCs11zLc5T+at4LP4Uy+P7w7T9xkicY/vDtP3GSJxj/SnqtrYr+8P6nkj0XAlMY/FMn7RTnCzD8=",
          "dtype": "f8"
         }
        },
        {
         "line": {
          "color": "#ab63fa",
          "width": 3
         },
         "marker": {
          "size": 10
         },
         "mode": "lines+markers",
         "name": "F1_score",
         "showlegend": true,
         "type": "scatter",
         "x": {
          "bdata": "AQIECBAgQA==",
          "dtype": "i1"
         },
         "y": {
          "bdata": "8cUgvhjE5z+JHfBUMrTAPxdcAdNzwcU/pZL6Z+bYxT+x+ZGUSI3DPzmogzqog8o/7zcBJxmh0D8=",
          "dtype": "f8"
         }
        }
       ],
       "layout": {
        "boxgroupgap": 0,
        "boxmode": "group",
        "height": 400,
        "legend": {
         "font": {
          "size": 16
         },
         "orientation": "h",
         "title": {
          "font": {
           "size": 18
          },
          "text": "Métricas"
         },
         "x": 0.5,
         "xanchor": "center",
         "y": -0.25,
         "yanchor": "bottom"
        },
        "margin": {
         "b": 0,
         "l": 0,
         "r": 0,
         "t": 0
        },
        "template": {
         "data": {
          "bar": [
           {
            "error_x": {
             "color": "#2a3f5f"
            },
            "error_y": {
             "color": "#2a3f5f"
            },
            "marker": {
             "line": {
              "color": "#E5ECF6",
              "width": 0.5
             },
             "pattern": {
              "fillmode": "overlay",
              "size": 10,
              "solidity": 0.2
             }
            },
            "type": "bar"
           }
          ],
          "barpolar": [
           {
            "marker": {
             "line": {
              "color": "#E5ECF6",
              "width": 0.5
             },
             "pattern": {
              "fillmode": "overlay",
              "size": 10,
              "solidity": 0.2
             }
            },
            "type": "barpolar"
           }
          ],
          "carpet": [
           {
            "aaxis": {
             "endlinecolor": "#2a3f5f",
             "gridcolor": "white",
             "linecolor": "white",
             "minorgridcolor": "white",
             "startlinecolor": "#2a3f5f"
            },
            "baxis": {
             "endlinecolor": "#2a3f5f",
             "gridcolor": "white",
             "linecolor": "white",
             "minorgridcolor": "white",
             "startlinecolor": "#2a3f5f"
            },
            "type": "carpet"
           }
          ],
          "choropleth": [
           {
            "colorbar": {
             "outlinewidth": 0,
             "ticks": ""
            },
            "type": "choropleth"
           }
          ],
          "contour": [
           {
            "colorbar": {
             "outlinewidth": 0,
             "ticks": ""
            },
            "colorscale": [
             [
              0,
              "#0d0887"
             ],
             [
              0.1111111111111111,
              "#46039f"
             ],
             [
              0.2222222222222222,
              "#7201a8"
             ],
             [
              0.3333333333333333,
              "#9c179e"
             ],
             [
              0.4444444444444444,
              "#bd3786"
             ],
             [
              0.5555555555555556,
              "#d8576b"
             ],
             [
              0.6666666666666666,
              "#ed7953"
             ],
             [
              0.7777777777777778,
              "#fb9f3a"
             ],
             [
              0.8888888888888888,
              "#fdca26"
             ],
             [
              1,
              "#f0f921"
             ]
            ],
            "type": "contour"
           }
          ],
          "contourcarpet": [
           {
            "colorbar": {
             "outlinewidth": 0,
             "ticks": ""
            },
            "type": "contourcarpet"
           }
          ],
          "heatmap": [
           {
            "colorbar": {
             "outlinewidth": 0,
             "ticks": ""
            },
            "colorscale": [
             [
              0,
              "#0d0887"
             ],
             [
              0.1111111111111111,
              "#46039f"
             ],
             [
              0.2222222222222222,
              "#7201a8"
             ],
             [
              0.3333333333333333,
              "#9c179e"
             ],
             [
              0.4444444444444444,
              "#bd3786"
             ],
             [
              0.5555555555555556,
              "#d8576b"
             ],
             [
              0.6666666666666666,
              "#ed7953"
             ],
             [
              0.7777777777777778,
              "#fb9f3a"
             ],
             [
              0.8888888888888888,
              "#fdca26"
             ],
             [
              1,
              "#f0f921"
             ]
            ],
            "type": "heatmap"
           }
          ],
          "histogram": [
           {
            "marker": {
             "pattern": {
              "fillmode": "overlay",
              "size": 10,
              "solidity": 0.2
             }
            },
            "type": "histogram"
           }
          ],
          "histogram2d": [
           {
            "colorbar": {
             "outlinewidth": 0,
             "ticks": ""
            },
            "colorscale": [
             [
              0,
              "#0d0887"
             ],
             [
              0.1111111111111111,
              "#46039f"
             ],
             [
              0.2222222222222222,
              "#7201a8"
             ],
             [
              0.3333333333333333,
              "#9c179e"
             ],
             [
              0.4444444444444444,
              "#bd3786"
             ],
             [
              0.5555555555555556,
              "#d8576b"
             ],
             [
              0.6666666666666666,
              "#ed7953"
             ],
             [
              0.7777777777777778,
              "#fb9f3a"
             ],
             [
              0.8888888888888888,
              "#fdca26"
             ],
             [
              1,
              "#f0f921"
             ]
            ],
            "type": "histogram2d"
           }
          ],
          "histogram2dcontour": [
           {
            "colorbar": {
             "outlinewidth": 0,
             "ticks": ""
            },
            "colorscale": [
             [
              0,
              "#0d0887"
             ],
             [
              0.1111111111111111,
              "#46039f"
             ],
             [
              0.2222222222222222,
              "#7201a8"
             ],
             [
              0.3333333333333333,
              "#9c179e"
             ],
             [
              0.4444444444444444,
              "#bd3786"
             ],
             [
              0.5555555555555556,
              "#d8576b"
             ],
             [
              0.6666666666666666,
              "#ed7953"
             ],
             [
              0.7777777777777778,
              "#fb9f3a"
             ],
             [
              0.8888888888888888,
              "#fdca26"
             ],
             [
              1,
              "#f0f921"
             ]
            ],
            "type": "histogram2dcontour"
           }
          ],
          "mesh3d": [
           {
            "colorbar": {
             "outlinewidth": 0,
             "ticks": ""
            },
            "type": "mesh3d"
           }
          ],
          "parcoords": [
           {
            "line": {
             "colorbar": {
              "outlinewidth": 0,
              "ticks": ""
             }
            },
            "type": "parcoords"
           }
          ],
          "pie": [
           {
            "automargin": true,
            "type": "pie"
           }
          ],
          "scatter": [
           {
            "fillpattern": {
             "fillmode": "overlay",
             "size": 10,
             "solidity": 0.2
            },
            "type": "scatter"
           }
          ],
          "scatter3d": [
           {
            "line": {
             "colorbar": {
              "outlinewidth": 0,
              "ticks": ""
             }
            },
            "marker": {
             "colorbar": {
              "outlinewidth": 0,
              "ticks": ""
             }
            },
            "type": "scatter3d"
           }
          ],
          "scattercarpet": [
           {
            "marker": {
             "colorbar": {
              "outlinewidth": 0,
              "ticks": ""
             }
            },
            "type": "scattercarpet"
           }
          ],
          "scattergeo": [
           {
            "marker": {
             "colorbar": {
              "outlinewidth": 0,
              "ticks": ""
             }
            },
            "type": "scattergeo"
           }
          ],
          "scattergl": [
           {
            "marker": {
             "colorbar": {
              "outlinewidth": 0,
              "ticks": ""
             }
            },
            "type": "scattergl"
           }
          ],
          "scattermap": [
           {
            "marker": {
             "colorbar": {
              "outlinewidth": 0,
              "ticks": ""
             }
            },
            "type": "scattermap"
           }
          ],
          "scattermapbox": [
           {
            "marker": {
             "colorbar": {
              "outlinewidth": 0,
              "ticks": ""
             }
            },
            "type": "scattermapbox"
           }
          ],
          "scatterpolar": [
           {
            "marker": {
             "colorbar": {
              "outlinewidth": 0,
              "ticks": ""
             }
            },
            "type": "scatterpolar"
           }
          ],
          "scatterpolargl": [
           {
            "marker": {
             "colorbar": {
              "outlinewidth": 0,
              "ticks": ""
             }
            },
            "type": "scatterpolargl"
           }
          ],
          "scatterternary": [
           {
            "marker": {
             "colorbar": {
              "outlinewidth": 0,
              "ticks": ""
             }
            },
            "type": "scatterternary"
           }
          ],
          "surface": [
           {
            "colorbar": {
             "outlinewidth": 0,
             "ticks": ""
            },
            "colorscale": [
             [
              0,
              "#0d0887"
             ],
             [
              0.1111111111111111,
              "#46039f"
             ],
             [
              0.2222222222222222,
              "#7201a8"
             ],
             [
              0.3333333333333333,
              "#9c179e"
             ],
             [
              0.4444444444444444,
              "#bd3786"
             ],
             [
              0.5555555555555556,
              "#d8576b"
             ],
             [
              0.6666666666666666,
              "#ed7953"
             ],
             [
              0.7777777777777778,
              "#fb9f3a"
             ],
             [
              0.8888888888888888,
              "#fdca26"
             ],
             [
              1,
              "#f0f921"
             ]
            ],
            "type": "surface"
           }
          ],
          "table": [
           {
            "cells": {
             "fill": {
              "color": "#EBF0F8"
             },
             "line": {
              "color": "white"
             }
            },
            "header": {
             "fill": {
              "color": "#C8D4E3"
             },
             "line": {
              "color": "white"
             }
            },
            "type": "table"
           }
          ]
         },
         "layout": {
          "annotationdefaults": {
           "arrowcolor": "#2a3f5f",
           "arrowhead": 0,
           "arrowwidth": 1
          },
          "autotypenumbers": "strict",
          "coloraxis": {
           "colorbar": {
            "outlinewidth": 0,
            "ticks": ""
           }
          },
          "colorscale": {
           "diverging": [
            [
             0,
             "#8e0152"
            ],
            [
             0.1,
             "#c51b7d"
            ],
            [
             0.2,
             "#de77ae"
            ],
            [
             0.3,
             "#f1b6da"
            ],
            [
             0.4,
             "#fde0ef"
            ],
            [
             0.5,
             "#f7f7f7"
            ],
            [
             0.6,
             "#e6f5d0"
            ],
            [
             0.7,
             "#b8e186"
            ],
            [
             0.8,
             "#7fbc41"
            ],
            [
             0.9,
             "#4d9221"
            ],
            [
             1,
             "#276419"
            ]
           ],
           "sequential": [
            [
             0,
             "#0d0887"
            ],
            [
             0.1111111111111111,
             "#46039f"
            ],
            [
             0.2222222222222222,
             "#7201a8"
            ],
            [
             0.3333333333333333,
             "#9c179e"
            ],
            [
             0.4444444444444444,
             "#bd3786"
            ],
            [
             0.5555555555555556,
             "#d8576b"
            ],
            [
             0.6666666666666666,
             "#ed7953"
            ],
            [
             0.7777777777777778,
             "#fb9f3a"
            ],
            [
             0.8888888888888888,
             "#fdca26"
            ],
            [
             1,
             "#f0f921"
            ]
           ],
           "sequentialminus": [
            [
             0,
             "#0d0887"
            ],
            [
             0.1111111111111111,
             "#46039f"
            ],
            [
             0.2222222222222222,
             "#7201a8"
            ],
            [
             0.3333333333333333,
             "#9c179e"
            ],
            [
             0.4444444444444444,
             "#bd3786"
            ],
            [
             0.5555555555555556,
             "#d8576b"
            ],
            [
             0.6666666666666666,
             "#ed7953"
            ],
            [
             0.7777777777777778,
             "#fb9f3a"
            ],
            [
             0.8888888888888888,
             "#fdca26"
            ],
            [
             1,
             "#f0f921"
            ]
           ]
          },
          "colorway": [
           "#636efa",
           "#EF553B",
           "#00cc96",
           "#ab63fa",
           "#FFA15A",
           "#19d3f3",
           "#FF6692",
           "#B6E880",
           "#FF97FF",
           "#FECB52"
          ],
          "font": {
           "color": "#2a3f5f"
          },
          "geo": {
           "bgcolor": "white",
           "lakecolor": "white",
           "landcolor": "#E5ECF6",
           "showlakes": true,
           "showland": true,
           "subunitcolor": "white"
          },
          "hoverlabel": {
           "align": "left"
          },
          "hovermode": "closest",
          "mapbox": {
           "style": "light"
          },
          "paper_bgcolor": "white",
          "plot_bgcolor": "#E5ECF6",
          "polar": {
           "angularaxis": {
            "gridcolor": "white",
            "linecolor": "white",
            "ticks": ""
           },
           "bgcolor": "#E5ECF6",
           "radialaxis": {
            "gridcolor": "white",
            "linecolor": "white",
            "ticks": ""
           }
          },
          "scene": {
           "xaxis": {
            "backgroundcolor": "#E5ECF6",
            "gridcolor": "white",
            "gridwidth": 2,
            "linecolor": "white",
            "showbackground": true,
            "ticks": "",
            "zerolinecolor": "white"
           },
           "yaxis": {
            "backgroundcolor": "#E5ECF6",
            "gridcolor": "white",
            "gridwidth": 2,
            "linecolor": "white",
            "showbackground": true,
            "ticks": "",
            "zerolinecolor": "white"
           },
           "zaxis": {
            "backgroundcolor": "#E5ECF6",
            "gridcolor": "white",
            "gridwidth": 2,
            "linecolor": "white",
            "showbackground": true,
            "ticks": "",
            "zerolinecolor": "white"
           }
          },
          "shapedefaults": {
           "line": {
            "color": "#2a3f5f"
           }
          },
          "ternary": {
           "aaxis": {
            "gridcolor": "white",
            "linecolor": "white",
            "ticks": ""
           },
           "baxis": {
            "gridcolor": "white",
            "linecolor": "white",
            "ticks": ""
           },
           "bgcolor": "#E5ECF6",
           "caxis": {
            "gridcolor": "white",
            "linecolor": "white",
            "ticks": ""
           }
          },
          "title": {
           "x": 0.05
          },
          "xaxis": {
           "automargin": true,
           "gridcolor": "white",
           "linecolor": "white",
           "ticks": "",
           "title": {
            "standoff": 15
           },
           "zerolinecolor": "white",
           "zerolinewidth": 2
          },
          "yaxis": {
           "automargin": true,
           "gridcolor": "white",
           "linecolor": "white",
           "ticks": "",
           "title": {
            "standoff": 15
           },
           "zerolinecolor": "white",
           "zerolinewidth": 2
          }
         }
        },
        "width": 800,
        "xaxis": {
         "tickfont": {
          "size": 16
         },
         "ticktext": [
          "1",
          "16",
          "2",
          "32",
          "4",
          "64",
          "8"
         ],
         "tickvals": {
          "bdata": "ARACIARACA==",
          "dtype": "i1"
         },
         "title": {
          "font": {
           "size": 22
          },
          "text": "K"
         },
         "type": "log"
        },
        "yaxis": {
         "tickfont": {
          "size": 16
         },
         "ticktext": [
          "1",
          "0.8",
          "0.6",
          "0.4",
          "0.2",
          "0"
         ],
         "tickvals": [
          1,
          0.8,
          0.6,
          0.4,
          0.2,
          0
         ],
         "title": {
          "font": {
           "size": 22
          },
          "text": "Métricas"
         }
        }
       }
      }
     },
     "metadata": {},
     "output_type": "display_data"
    }
   ],
   "source": [
    "# Filtrar los resultados para l=1 y t=0\n",
    "filtered = {k_val: df \n",
    "            for (k_val, l_val, t_val), df in usability_dict.items() \n",
    "            if l_val == 1 and\n",
    "              t_val == 1.0 and \n",
    "              k_val in k_all_values\n",
    "            }\n",
    "\n",
    "# Preparar los datos para el diagrama de cajas\n",
    "data_acc = []\n",
    "data_pre = []\n",
    "data_rec = []\n",
    "data_f1 = []\n",
    "for k_val, df in filtered.items():\n",
    "    accuracies = df['accuracy'].values.astype(float)\n",
    "    precisions = df['precision'].values.astype(float)\n",
    "    recalls = df['recall'].values.astype(float)\n",
    "    f1_scores = df['f1_score'].values.astype(float)\n",
    "    for v in accuracies:\n",
    "        data_acc.append({'k': k_val, 'accuracy': v})\n",
    "    for v in precisions:\n",
    "        data_pre.append({'k': k_val, 'precision': v})\n",
    "    for v in recalls:\n",
    "        data_rec.append({'k': k_val, 'recall': v})\n",
    "    for v in f1_scores:\n",
    "        data_f1.append({'k': k_val, 'f1_score': v})\n",
    "\n",
    "box_acc_df = pd.DataFrame(data_acc)\n",
    "box_pre_df = pd.DataFrame(data_pre)\n",
    "box_rec_df = pd.DataFrame(data_rec)\n",
    "box_f1_df = pd.DataFrame(data_f1)\n",
    "\n",
    "box_df = pd.concat([\n",
    "    box_acc_df.rename(columns={'accuracy': 'value'}).assign(metric='accuracy'),\n",
    "    box_pre_df.rename(columns={'precision': 'value'}).assign(metric='precision'),\n",
    "    box_rec_df.rename(columns={'recall': 'value'}).assign(metric='recall'),\n",
    "    box_f1_df.rename(columns={'f1_score': 'value'}).assign(metric='f1_score')\n",
    "])\n",
    "\n",
    "# Calcular la mediana para cada k y métrica\n",
    "median_df = box_df.groupby(['k', 'metric'], as_index=False)['value'].median()\n",
    "\n",
    "fig = go.Figure()\n",
    "\n",
    "# Añadir líneas de medianas para cada métrica\n",
    "for metric, color in zip(['accuracy', 'precision', 'recall', 'f1_score'], ['#636efa', '#EF553B', '#00cc96', '#ab63fa']):\n",
    "    med = median_df[median_df['metric'] == metric]\n",
    "    fig.add_trace(go.Scatter(\n",
    "        x=med['k'],\n",
    "        y=med['value'],\n",
    "        mode='lines+markers',\n",
    "        name=f'{metric.capitalize()}',\n",
    "        line=dict(color=color, width=3),\n",
    "        marker=dict(size=10),\n",
    "        showlegend=True,\n",
    "    ))\n",
    "\n",
    "fig.update_layout(\n",
    "    # title='Mediana de Accuracy y Precision para diferentes valores de k',\n",
    "    xaxis=dict(type='log', title='K'),\n",
    "    yaxis=dict(title='Métricas'),\n",
    "    height=600\n",
    ")\n",
    "fig.update_layout(\n",
    "    boxmode='group',\n",
    "    boxgroupgap=0,\n",
    "    legend=dict(\n",
    "        orientation='h',\n",
    "        yanchor='bottom',\n",
    "        y=-0.25,\n",
    "        xanchor='center',\n",
    "        x=0.5,\n",
    "        font=dict(size=16),\n",
    "        title=dict(text='Métricas', font=dict(size=18))\n",
    "\n",
    "    ),\n",
    "    xaxis=dict(\n",
    "        title='K',\n",
    "        type='log',\n",
    "        tickvals=box_df['k'].unique(),\n",
    "        ticktext=[f\"{int(val)}\" for val in box_df['k'].unique()],\n",
    "        title_font=dict(size=22),\n",
    "        tickfont=dict(size=16)\n",
    "    ),\n",
    "    yaxis=dict(\n",
    "        title='Métricas',\n",
    "        title_font=dict(size=22),\n",
    "        tickfont=dict(size=16),\n",
    "        tickvals=[1, 0.8, 0.6, 0.4, 0.2, 0],\n",
    "        ticktext=[str(val) for val in [1, 0.8, 0.6, 0.4, 0.2, 0]]\n",
    "    ),\n",
    "    margin=dict(l=0, r=0, t=0, b=0),\n",
    "    height=400,\n",
    "    width=800\n",
    ")\n",
    "fig.write_image(\"../Memoria/images/graphs/usability-vs-k_anonymity.png\")\n",
    "fig.update_xaxes(type='log', tickvals=box_df['k'].unique(), ticktext=[f\"{int(val)}\" for val in box_df['k'].unique()], title_text='K')\n",
    "fig.show()"
   ]
  },
  {
   "cell_type": "markdown",
   "id": "52836d39",
   "metadata": {},
   "source": [
    "### Resultados de aplicar únicamente l-diversity\n",
    "\n",
    "La siguiente gráfica muestra la distribución de las métricas `accuracy` y `precision` para diferentes valores de l, manteniendo k=1 y t=0, es decir, aplicando solo l-diversity sobre los datos."
   ]
  },
  {
   "cell_type": "code",
   "execution_count": 27,
   "id": "aa3144c7",
   "metadata": {},
   "outputs": [
    {
     "data": {
      "application/vnd.plotly.v1+json": {
       "config": {
        "plotlyServerURL": "https://plot.ly"
       },
       "data": [
        {
         "alignmentgroup": "True",
         "boxpoints": false,
         "hovertemplate": "Métrica=%{y}<br>L=%{x}<extra></extra>",
         "legendgroup": "Accuracy",
         "marker": {
          "color": "#636efa"
         },
         "name": "Accuracy",
         "notched": false,
         "offsetgroup": "accuracy",
         "orientation": "v",
         "showlegend": true,
         "type": "box",
         "x": {
          "bdata": "AQEBAQEBAQEBAQECAgICAgICAgICAg==",
          "dtype": "i1"
         },
         "x0": " ",
         "xaxis": "x",
         "y": {
          "bdata": "aBmCSzpU7D9oGYJLOlTsP2gZgks6VOw/aBmCSzpU7D9oGYJLOlTsP2gZgks6VOw/aBmCSzpU7D9oGYJLOlTsP2gZgks6VOw/aBmCSzpU7D9oGYJLOlTsP1j9lWe/L+Y/Sh5mXCz05z+RIwieb2HnP8RCTB7MVuY/TEDbI8oG3T8syByebDfiP9w/hQnRn9M/t0NcMTqL4T9emHXprN/oP4eCoVRNw84/ESXQjWRj2z8=",
          "dtype": "f8"
         },
         "y0": " ",
         "yaxis": "y"
        },
        {
         "alignmentgroup": "True",
         "boxpoints": false,
         "hovertemplate": "Métrica=%{y}<br>L=%{x}<extra></extra>",
         "legendgroup": "Precision",
         "marker": {
          "color": "#EF553B"
         },
         "name": "Precision",
         "notched": false,
         "offsetgroup": "precision",
         "orientation": "v",
         "showlegend": true,
         "type": "box",
         "x": {
          "bdata": "AQEBAQEBAQEBAQECAgICAgICAgICAg==",
          "dtype": "i1"
         },
         "x0": " ",
         "xaxis": "x",
         "y": {
          "bdata": "dYJnnTEJ6j91gmedMQnqP3WCZ50xCeo/dYJnnTEJ6j91gmedMQnqP3WCZ50xCeo/dYJnnTEJ6j91gmedMQnqP3WCZ50xCeo/dYJnnTEJ6j91gmedMQnqP4+fWBZhydQ/r/a2e4ypxz86JseSOjqxPzI/9ZzAj84/qvhp69e1zD/sWewknEPIP88xgr9o2ss/7Eb2t7uRzT85LNPxNIvjPwcs8LaQOss//hSik1t9yj8=",
          "dtype": "f8"
         },
         "y0": " ",
         "yaxis": "y"
        }
       ],
       "layout": {
        "boxgroupgap": 0,
        "boxmode": "group",
        "height": 600,
        "legend": {
         "title": {
          "text": "Métrica"
         },
         "tracegroupgap": 0
        },
        "margin": {
         "t": 60
        },
        "template": {
         "data": {
          "bar": [
           {
            "error_x": {
             "color": "#2a3f5f"
            },
            "error_y": {
             "color": "#2a3f5f"
            },
            "marker": {
             "line": {
              "color": "#E5ECF6",
              "width": 0.5
             },
             "pattern": {
              "fillmode": "overlay",
              "size": 10,
              "solidity": 0.2
             }
            },
            "type": "bar"
           }
          ],
          "barpolar": [
           {
            "marker": {
             "line": {
              "color": "#E5ECF6",
              "width": 0.5
             },
             "pattern": {
              "fillmode": "overlay",
              "size": 10,
              "solidity": 0.2
             }
            },
            "type": "barpolar"
           }
          ],
          "carpet": [
           {
            "aaxis": {
             "endlinecolor": "#2a3f5f",
             "gridcolor": "white",
             "linecolor": "white",
             "minorgridcolor": "white",
             "startlinecolor": "#2a3f5f"
            },
            "baxis": {
             "endlinecolor": "#2a3f5f",
             "gridcolor": "white",
             "linecolor": "white",
             "minorgridcolor": "white",
             "startlinecolor": "#2a3f5f"
            },
            "type": "carpet"
           }
          ],
          "choropleth": [
           {
            "colorbar": {
             "outlinewidth": 0,
             "ticks": ""
            },
            "type": "choropleth"
           }
          ],
          "contour": [
           {
            "colorbar": {
             "outlinewidth": 0,
             "ticks": ""
            },
            "colorscale": [
             [
              0,
              "#0d0887"
             ],
             [
              0.1111111111111111,
              "#46039f"
             ],
             [
              0.2222222222222222,
              "#7201a8"
             ],
             [
              0.3333333333333333,
              "#9c179e"
             ],
             [
              0.4444444444444444,
              "#bd3786"
             ],
             [
              0.5555555555555556,
              "#d8576b"
             ],
             [
              0.6666666666666666,
              "#ed7953"
             ],
             [
              0.7777777777777778,
              "#fb9f3a"
             ],
             [
              0.8888888888888888,
              "#fdca26"
             ],
             [
              1,
              "#f0f921"
             ]
            ],
            "type": "contour"
           }
          ],
          "contourcarpet": [
           {
            "colorbar": {
             "outlinewidth": 0,
             "ticks": ""
            },
            "type": "contourcarpet"
           }
          ],
          "heatmap": [
           {
            "colorbar": {
             "outlinewidth": 0,
             "ticks": ""
            },
            "colorscale": [
             [
              0,
              "#0d0887"
             ],
             [
              0.1111111111111111,
              "#46039f"
             ],
             [
              0.2222222222222222,
              "#7201a8"
             ],
             [
              0.3333333333333333,
              "#9c179e"
             ],
             [
              0.4444444444444444,
              "#bd3786"
             ],
             [
              0.5555555555555556,
              "#d8576b"
             ],
             [
              0.6666666666666666,
              "#ed7953"
             ],
             [
              0.7777777777777778,
              "#fb9f3a"
             ],
             [
              0.8888888888888888,
              "#fdca26"
             ],
             [
              1,
              "#f0f921"
             ]
            ],
            "type": "heatmap"
           }
          ],
          "histogram": [
           {
            "marker": {
             "pattern": {
              "fillmode": "overlay",
              "size": 10,
              "solidity": 0.2
             }
            },
            "type": "histogram"
           }
          ],
          "histogram2d": [
           {
            "colorbar": {
             "outlinewidth": 0,
             "ticks": ""
            },
            "colorscale": [
             [
              0,
              "#0d0887"
             ],
             [
              0.1111111111111111,
              "#46039f"
             ],
             [
              0.2222222222222222,
              "#7201a8"
             ],
             [
              0.3333333333333333,
              "#9c179e"
             ],
             [
              0.4444444444444444,
              "#bd3786"
             ],
             [
              0.5555555555555556,
              "#d8576b"
             ],
             [
              0.6666666666666666,
              "#ed7953"
             ],
             [
              0.7777777777777778,
              "#fb9f3a"
             ],
             [
              0.8888888888888888,
              "#fdca26"
             ],
             [
              1,
              "#f0f921"
             ]
            ],
            "type": "histogram2d"
           }
          ],
          "histogram2dcontour": [
           {
            "colorbar": {
             "outlinewidth": 0,
             "ticks": ""
            },
            "colorscale": [
             [
              0,
              "#0d0887"
             ],
             [
              0.1111111111111111,
              "#46039f"
             ],
             [
              0.2222222222222222,
              "#7201a8"
             ],
             [
              0.3333333333333333,
              "#9c179e"
             ],
             [
              0.4444444444444444,
              "#bd3786"
             ],
             [
              0.5555555555555556,
              "#d8576b"
             ],
             [
              0.6666666666666666,
              "#ed7953"
             ],
             [
              0.7777777777777778,
              "#fb9f3a"
             ],
             [
              0.8888888888888888,
              "#fdca26"
             ],
             [
              1,
              "#f0f921"
             ]
            ],
            "type": "histogram2dcontour"
           }
          ],
          "mesh3d": [
           {
            "colorbar": {
             "outlinewidth": 0,
             "ticks": ""
            },
            "type": "mesh3d"
           }
          ],
          "parcoords": [
           {
            "line": {
             "colorbar": {
              "outlinewidth": 0,
              "ticks": ""
             }
            },
            "type": "parcoords"
           }
          ],
          "pie": [
           {
            "automargin": true,
            "type": "pie"
           }
          ],
          "scatter": [
           {
            "fillpattern": {
             "fillmode": "overlay",
             "size": 10,
             "solidity": 0.2
            },
            "type": "scatter"
           }
          ],
          "scatter3d": [
           {
            "line": {
             "colorbar": {
              "outlinewidth": 0,
              "ticks": ""
             }
            },
            "marker": {
             "colorbar": {
              "outlinewidth": 0,
              "ticks": ""
             }
            },
            "type": "scatter3d"
           }
          ],
          "scattercarpet": [
           {
            "marker": {
             "colorbar": {
              "outlinewidth": 0,
              "ticks": ""
             }
            },
            "type": "scattercarpet"
           }
          ],
          "scattergeo": [
           {
            "marker": {
             "colorbar": {
              "outlinewidth": 0,
              "ticks": ""
             }
            },
            "type": "scattergeo"
           }
          ],
          "scattergl": [
           {
            "marker": {
             "colorbar": {
              "outlinewidth": 0,
              "ticks": ""
             }
            },
            "type": "scattergl"
           }
          ],
          "scattermap": [
           {
            "marker": {
             "colorbar": {
              "outlinewidth": 0,
              "ticks": ""
             }
            },
            "type": "scattermap"
           }
          ],
          "scattermapbox": [
           {
            "marker": {
             "colorbar": {
              "outlinewidth": 0,
              "ticks": ""
             }
            },
            "type": "scattermapbox"
           }
          ],
          "scatterpolar": [
           {
            "marker": {
             "colorbar": {
              "outlinewidth": 0,
              "ticks": ""
             }
            },
            "type": "scatterpolar"
           }
          ],
          "scatterpolargl": [
           {
            "marker": {
             "colorbar": {
              "outlinewidth": 0,
              "ticks": ""
             }
            },
            "type": "scatterpolargl"
           }
          ],
          "scatterternary": [
           {
            "marker": {
             "colorbar": {
              "outlinewidth": 0,
              "ticks": ""
             }
            },
            "type": "scatterternary"
           }
          ],
          "surface": [
           {
            "colorbar": {
             "outlinewidth": 0,
             "ticks": ""
            },
            "colorscale": [
             [
              0,
              "#0d0887"
             ],
             [
              0.1111111111111111,
              "#46039f"
             ],
             [
              0.2222222222222222,
              "#7201a8"
             ],
             [
              0.3333333333333333,
              "#9c179e"
             ],
             [
              0.4444444444444444,
              "#bd3786"
             ],
             [
              0.5555555555555556,
              "#d8576b"
             ],
             [
              0.6666666666666666,
              "#ed7953"
             ],
             [
              0.7777777777777778,
              "#fb9f3a"
             ],
             [
              0.8888888888888888,
              "#fdca26"
             ],
             [
              1,
              "#f0f921"
             ]
            ],
            "type": "surface"
           }
          ],
          "table": [
           {
            "cells": {
             "fill": {
              "color": "#EBF0F8"
             },
             "line": {
              "color": "white"
             }
            },
            "header": {
             "fill": {
              "color": "#C8D4E3"
             },
             "line": {
              "color": "white"
             }
            },
            "type": "table"
           }
          ]
         },
         "layout": {
          "annotationdefaults": {
           "arrowcolor": "#2a3f5f",
           "arrowhead": 0,
           "arrowwidth": 1
          },
          "autotypenumbers": "strict",
          "coloraxis": {
           "colorbar": {
            "outlinewidth": 0,
            "ticks": ""
           }
          },
          "colorscale": {
           "diverging": [
            [
             0,
             "#8e0152"
            ],
            [
             0.1,
             "#c51b7d"
            ],
            [
             0.2,
             "#de77ae"
            ],
            [
             0.3,
             "#f1b6da"
            ],
            [
             0.4,
             "#fde0ef"
            ],
            [
             0.5,
             "#f7f7f7"
            ],
            [
             0.6,
             "#e6f5d0"
            ],
            [
             0.7,
             "#b8e186"
            ],
            [
             0.8,
             "#7fbc41"
            ],
            [
             0.9,
             "#4d9221"
            ],
            [
             1,
             "#276419"
            ]
           ],
           "sequential": [
            [
             0,
             "#0d0887"
            ],
            [
             0.1111111111111111,
             "#46039f"
            ],
            [
             0.2222222222222222,
             "#7201a8"
            ],
            [
             0.3333333333333333,
             "#9c179e"
            ],
            [
             0.4444444444444444,
             "#bd3786"
            ],
            [
             0.5555555555555556,
             "#d8576b"
            ],
            [
             0.6666666666666666,
             "#ed7953"
            ],
            [
             0.7777777777777778,
             "#fb9f3a"
            ],
            [
             0.8888888888888888,
             "#fdca26"
            ],
            [
             1,
             "#f0f921"
            ]
           ],
           "sequentialminus": [
            [
             0,
             "#0d0887"
            ],
            [
             0.1111111111111111,
             "#46039f"
            ],
            [
             0.2222222222222222,
             "#7201a8"
            ],
            [
             0.3333333333333333,
             "#9c179e"
            ],
            [
             0.4444444444444444,
             "#bd3786"
            ],
            [
             0.5555555555555556,
             "#d8576b"
            ],
            [
             0.6666666666666666,
             "#ed7953"
            ],
            [
             0.7777777777777778,
             "#fb9f3a"
            ],
            [
             0.8888888888888888,
             "#fdca26"
            ],
            [
             1,
             "#f0f921"
            ]
           ]
          },
          "colorway": [
           "#636efa",
           "#EF553B",
           "#00cc96",
           "#ab63fa",
           "#FFA15A",
           "#19d3f3",
           "#FF6692",
           "#B6E880",
           "#FF97FF",
           "#FECB52"
          ],
          "font": {
           "color": "#2a3f5f"
          },
          "geo": {
           "bgcolor": "white",
           "lakecolor": "white",
           "landcolor": "#E5ECF6",
           "showlakes": true,
           "showland": true,
           "subunitcolor": "white"
          },
          "hoverlabel": {
           "align": "left"
          },
          "hovermode": "closest",
          "mapbox": {
           "style": "light"
          },
          "paper_bgcolor": "white",
          "plot_bgcolor": "#E5ECF6",
          "polar": {
           "angularaxis": {
            "gridcolor": "white",
            "linecolor": "white",
            "ticks": ""
           },
           "bgcolor": "#E5ECF6",
           "radialaxis": {
            "gridcolor": "white",
            "linecolor": "white",
            "ticks": ""
           }
          },
          "scene": {
           "xaxis": {
            "backgroundcolor": "#E5ECF6",
            "gridcolor": "white",
            "gridwidth": 2,
            "linecolor": "white",
            "showbackground": true,
            "ticks": "",
            "zerolinecolor": "white"
           },
           "yaxis": {
            "backgroundcolor": "#E5ECF6",
            "gridcolor": "white",
            "gridwidth": 2,
            "linecolor": "white",
            "showbackground": true,
            "ticks": "",
            "zerolinecolor": "white"
           },
           "zaxis": {
            "backgroundcolor": "#E5ECF6",
            "gridcolor": "white",
            "gridwidth": 2,
            "linecolor": "white",
            "showbackground": true,
            "ticks": "",
            "zerolinecolor": "white"
           }
          },
          "shapedefaults": {
           "line": {
            "color": "#2a3f5f"
           }
          },
          "ternary": {
           "aaxis": {
            "gridcolor": "white",
            "linecolor": "white",
            "ticks": ""
           },
           "baxis": {
            "gridcolor": "white",
            "linecolor": "white",
            "ticks": ""
           },
           "bgcolor": "#E5ECF6",
           "caxis": {
            "gridcolor": "white",
            "linecolor": "white",
            "ticks": ""
           }
          },
          "title": {
           "x": 0.05
          },
          "xaxis": {
           "automargin": true,
           "gridcolor": "white",
           "linecolor": "white",
           "ticks": "",
           "title": {
            "standoff": 15
           },
           "zerolinecolor": "white",
           "zerolinewidth": 2
          },
          "yaxis": {
           "automargin": true,
           "gridcolor": "white",
           "linecolor": "white",
           "ticks": "",
           "title": {
            "standoff": 15
           },
           "zerolinecolor": "white",
           "zerolinewidth": 2
          }
         }
        },
        "xaxis": {
         "anchor": "y",
         "domain": [
          0,
          1
         ],
         "title": {
          "text": "L"
         }
        },
        "yaxis": {
         "anchor": "x",
         "domain": [
          0,
          1
         ],
         "range": [
          -1.5,
          0.5
         ],
         "tickvals": [
          0.05,
          0.1,
          0.5,
          1
         ],
         "title": {
          "text": "Métrica"
         },
         "type": "log"
        }
       }
      }
     },
     "metadata": {},
     "output_type": "display_data"
    }
   ],
   "source": [
    "# Filtrar los resultados para k=1 y t=0 (solo l-diversity)\n",
    "filtered = {l_val: df for (k_val, l_val, t_val), df in usability_dict.items() if k_val == 1 and t_val == 1.0 and l_val in l_all_values}\n",
    "\n",
    "# Preparar los datos para el diagrama de cajas\n",
    "data_acc = []\n",
    "data_pre = []\n",
    "for l_val, df in filtered.items():\n",
    "    accuracies = df['accuracy'].values.astype(float)\n",
    "    precisions = df['precision'].values.astype(float)\n",
    "    for v in accuracies:\n",
    "        data_acc.append({'l': l_val, 'accuracy': v})\n",
    "    for v in precisions:\n",
    "        data_pre.append({'l': l_val, 'precision': v})\n",
    "\n",
    "box_df = pd.concat([\n",
    "    box_acc_df.rename(columns={'accuracy': 'value'}).assign(metric='accuracy'),\n",
    "    box_pre_df.rename(columns={'precision': 'value'}).assign(metric='precision')\n",
    "])\n",
    "\n",
    "box_acc_df = pd.DataFrame(data_acc)\n",
    "box_pre_df = pd.DataFrame(data_pre)\n",
    "\n",
    "box_df = pd.concat([\n",
    "    box_acc_df.rename(columns={'accuracy': 'value'}).assign(metric='accuracy'),\n",
    "    box_pre_df.rename(columns={'precision': 'value'}).assign(metric='precision')\n",
    "])\n",
    "\n",
    "fig = px.box(\n",
    "    box_df,\n",
    "    x='l',\n",
    "    y='value',\n",
    "    color='metric',\n",
    "    points=False,\n",
    "    labels={'value': 'Métrica', 'l': 'L', 'metric': 'Métrica'},\n",
    "    # title='Distribución de Accuracy y Precision para diferentes valores de l',\n",
    "    height=600,\n",
    "    color_discrete_map={\n",
    "        'accuracy': '#636efa',\n",
    "        'precision': '#EF553B'\n",
    "    },\n",
    "    category_orders={'metric': ['accuracy', 'precision']}\n",
    ")\n",
    "fig.for_each_trace(lambda t: t.update(name=t.name.capitalize(), legendgroup=t.name.capitalize(), marker_color=t.marker.color))\n",
    "fig.update_layout(boxmode='group', boxgroupgap=0)\n",
    "fig.update_yaxes(\n",
    "    title_text='Métrica',\n",
    "    type='log',\n",
    "    range=[-1.5, 0.5],  # log10(0.0001)= -4, log10(10)=1\n",
    "    tickvals=[0.05, 0.1, 0.5, 1],\n",
    ")\n",
    "fig.show()"
   ]
  },
  {
   "cell_type": "markdown",
   "id": "97787574",
   "metadata": {},
   "source": [
    "### Resultados de aplicar únicamente t-closeness\n",
    "\n",
    "La siguiente gráfica muestra la distribución de las métricas `accuracy` y `precision` para diferentes valores de t, manteniendo k=1 y l=1, es decir, aplicando solo t-closeness sobre los datos."
   ]
  },
  {
   "cell_type": "code",
   "execution_count": 32,
   "id": "78e7b22a",
   "metadata": {},
   "outputs": [
    {
     "data": {
      "application/vnd.plotly.v1+json": {
       "config": {
        "plotlyServerURL": "https://plot.ly"
       },
       "data": [
        {
         "line": {
          "color": "#636efa",
          "width": 3
         },
         "marker": {
          "size": 10
         },
         "mode": "lines+markers",
         "name": "Accuracy",
         "showlegend": true,
         "type": "scatter",
         "x": {
          "bdata": "mpmZmZmZuT+amZmZmZnJPzMzMzMzM9M/mpmZmZmZ2T8AAAAAAADgPzMzMzMzM+M/ZmZmZmZm5j+amZmZmZnpP83MzMzMzOw/AAAAAAAA8D8=",
          "dtype": "f8"
         },
         "y": {
          "bdata": "/Wi+VHyI5z+g7RFlg07nP4PwDIWqOOc/kotR8wrP5j/P4j1oDdrmP28Kr8PDwOY/tKsMjzbf5j9oGYJLOlTsP2gZgks6VOw/aBmCSzpU7D8=",
          "dtype": "f8"
         }
        },
        {
         "line": {
          "color": "#EF553B",
          "width": 3
         },
         "marker": {
          "size": 10
         },
         "mode": "lines+markers",
         "name": "Precision",
         "showlegend": true,
         "type": "scatter",
         "x": {
          "bdata": "mpmZmZmZuT+amZmZmZnJPzMzMzMzM9M/mpmZmZmZ2T8AAAAAAADgPzMzMzMzM+M/ZmZmZmZm5j+amZmZmZnpP83MzMzMzOw/AAAAAAAA8D8=",
          "dtype": "f8"
         },
         "y": {
          "bdata": "IvixF3B5zj8TblzGSjDPPw9odc2OeNA/lEnCHjYOzT9V5JRxRU7JP1XklHFFTsk/UtE4q/tUzD91gmedMQnqP3WCZ50xCeo/dYJnnTEJ6j8=",
          "dtype": "f8"
         }
        },
        {
         "line": {
          "color": "#00cc96",
          "width": 3
         },
         "marker": {
          "size": 10
         },
         "mode": "lines+markers",
         "name": "Recall",
         "showlegend": true,
         "type": "scatter",
         "x": {
          "bdata": "mpmZmZmZuT+amZmZmZnJPzMzMzMzM9M/mpmZmZmZ2T8AAAAAAADgPzMzMzMzM+M/ZmZmZmZm5j+amZmZmZnpP83MzMzMzOw/AAAAAAAA8D8=",
          "dtype": "f8"
         },
         "y": {
          "bdata": "9LVhX2THpz95UEftGwGmP9oemSUd5pI/w0fs1L3KvD+h4LDy936kP6HgsPL3fqQ/1w+h16sJvD90KzXXMtzlP3QrNdcy3OU/dCs11zLc5T8=",
          "dtype": "f8"
         }
        },
        {
         "line": {
          "color": "#ab63fa",
          "width": 3
         },
         "marker": {
          "size": 10
         },
         "mode": "lines+markers",
         "name": "F1_score",
         "showlegend": true,
         "type": "scatter",
         "x": {
          "bdata": "mpmZmZmZuT+amZmZmZnJPzMzMzMzM9M/mpmZmZmZ2T8AAAAAAADgPzMzMzMzM+M/ZmZmZmZm5j+amZmZmZnpP83MzMzMzOw/AAAAAAAA8D8=",
          "dtype": "f8"
         },
         "y": {
          "bdata": "Xxs/Lbbxsz+o/5LwB5qyP7KUBw+SNJw/TNldERhrxD9Fp/H0c2euP0Wn8fRzZ64/Qro0xXzdwz/xxSC+GMTnP/HFIL4YxOc/8cUgvhjE5z8=",
          "dtype": "f8"
         }
        }
       ],
       "layout": {
        "boxgroupgap": 0,
        "boxmode": "group",
        "height": 400,
        "legend": {
         "font": {
          "size": 16
         },
         "orientation": "h",
         "title": {
          "font": {
           "size": 18
          },
          "text": "Métricas"
         },
         "x": 0.5,
         "xanchor": "center",
         "y": -0.25,
         "yanchor": "bottom"
        },
        "margin": {
         "b": 0,
         "l": 0,
         "r": 0,
         "t": 0
        },
        "template": {
         "data": {
          "bar": [
           {
            "error_x": {
             "color": "#2a3f5f"
            },
            "error_y": {
             "color": "#2a3f5f"
            },
            "marker": {
             "line": {
              "color": "#E5ECF6",
              "width": 0.5
             },
             "pattern": {
              "fillmode": "overlay",
              "size": 10,
              "solidity": 0.2
             }
            },
            "type": "bar"
           }
          ],
          "barpolar": [
           {
            "marker": {
             "line": {
              "color": "#E5ECF6",
              "width": 0.5
             },
             "pattern": {
              "fillmode": "overlay",
              "size": 10,
              "solidity": 0.2
             }
            },
            "type": "barpolar"
           }
          ],
          "carpet": [
           {
            "aaxis": {
             "endlinecolor": "#2a3f5f",
             "gridcolor": "white",
             "linecolor": "white",
             "minorgridcolor": "white",
             "startlinecolor": "#2a3f5f"
            },
            "baxis": {
             "endlinecolor": "#2a3f5f",
             "gridcolor": "white",
             "linecolor": "white",
             "minorgridcolor": "white",
             "startlinecolor": "#2a3f5f"
            },
            "type": "carpet"
           }
          ],
          "choropleth": [
           {
            "colorbar": {
             "outlinewidth": 0,
             "ticks": ""
            },
            "type": "choropleth"
           }
          ],
          "contour": [
           {
            "colorbar": {
             "outlinewidth": 0,
             "ticks": ""
            },
            "colorscale": [
             [
              0,
              "#0d0887"
             ],
             [
              0.1111111111111111,
              "#46039f"
             ],
             [
              0.2222222222222222,
              "#7201a8"
             ],
             [
              0.3333333333333333,
              "#9c179e"
             ],
             [
              0.4444444444444444,
              "#bd3786"
             ],
             [
              0.5555555555555556,
              "#d8576b"
             ],
             [
              0.6666666666666666,
              "#ed7953"
             ],
             [
              0.7777777777777778,
              "#fb9f3a"
             ],
             [
              0.8888888888888888,
              "#fdca26"
             ],
             [
              1,
              "#f0f921"
             ]
            ],
            "type": "contour"
           }
          ],
          "contourcarpet": [
           {
            "colorbar": {
             "outlinewidth": 0,
             "ticks": ""
            },
            "type": "contourcarpet"
           }
          ],
          "heatmap": [
           {
            "colorbar": {
             "outlinewidth": 0,
             "ticks": ""
            },
            "colorscale": [
             [
              0,
              "#0d0887"
             ],
             [
              0.1111111111111111,
              "#46039f"
             ],
             [
              0.2222222222222222,
              "#7201a8"
             ],
             [
              0.3333333333333333,
              "#9c179e"
             ],
             [
              0.4444444444444444,
              "#bd3786"
             ],
             [
              0.5555555555555556,
              "#d8576b"
             ],
             [
              0.6666666666666666,
              "#ed7953"
             ],
             [
              0.7777777777777778,
              "#fb9f3a"
             ],
             [
              0.8888888888888888,
              "#fdca26"
             ],
             [
              1,
              "#f0f921"
             ]
            ],
            "type": "heatmap"
           }
          ],
          "histogram": [
           {
            "marker": {
             "pattern": {
              "fillmode": "overlay",
              "size": 10,
              "solidity": 0.2
             }
            },
            "type": "histogram"
           }
          ],
          "histogram2d": [
           {
            "colorbar": {
             "outlinewidth": 0,
             "ticks": ""
            },
            "colorscale": [
             [
              0,
              "#0d0887"
             ],
             [
              0.1111111111111111,
              "#46039f"
             ],
             [
              0.2222222222222222,
              "#7201a8"
             ],
             [
              0.3333333333333333,
              "#9c179e"
             ],
             [
              0.4444444444444444,
              "#bd3786"
             ],
             [
              0.5555555555555556,
              "#d8576b"
             ],
             [
              0.6666666666666666,
              "#ed7953"
             ],
             [
              0.7777777777777778,
              "#fb9f3a"
             ],
             [
              0.8888888888888888,
              "#fdca26"
             ],
             [
              1,
              "#f0f921"
             ]
            ],
            "type": "histogram2d"
           }
          ],
          "histogram2dcontour": [
           {
            "colorbar": {
             "outlinewidth": 0,
             "ticks": ""
            },
            "colorscale": [
             [
              0,
              "#0d0887"
             ],
             [
              0.1111111111111111,
              "#46039f"
             ],
             [
              0.2222222222222222,
              "#7201a8"
             ],
             [
              0.3333333333333333,
              "#9c179e"
             ],
             [
              0.4444444444444444,
              "#bd3786"
             ],
             [
              0.5555555555555556,
              "#d8576b"
             ],
             [
              0.6666666666666666,
              "#ed7953"
             ],
             [
              0.7777777777777778,
              "#fb9f3a"
             ],
             [
              0.8888888888888888,
              "#fdca26"
             ],
             [
              1,
              "#f0f921"
             ]
            ],
            "type": "histogram2dcontour"
           }
          ],
          "mesh3d": [
           {
            "colorbar": {
             "outlinewidth": 0,
             "ticks": ""
            },
            "type": "mesh3d"
           }
          ],
          "parcoords": [
           {
            "line": {
             "colorbar": {
              "outlinewidth": 0,
              "ticks": ""
             }
            },
            "type": "parcoords"
           }
          ],
          "pie": [
           {
            "automargin": true,
            "type": "pie"
           }
          ],
          "scatter": [
           {
            "fillpattern": {
             "fillmode": "overlay",
             "size": 10,
             "solidity": 0.2
            },
            "type": "scatter"
           }
          ],
          "scatter3d": [
           {
            "line": {
             "colorbar": {
              "outlinewidth": 0,
              "ticks": ""
             }
            },
            "marker": {
             "colorbar": {
              "outlinewidth": 0,
              "ticks": ""
             }
            },
            "type": "scatter3d"
           }
          ],
          "scattercarpet": [
           {
            "marker": {
             "colorbar": {
              "outlinewidth": 0,
              "ticks": ""
             }
            },
            "type": "scattercarpet"
           }
          ],
          "scattergeo": [
           {
            "marker": {
             "colorbar": {
              "outlinewidth": 0,
              "ticks": ""
             }
            },
            "type": "scattergeo"
           }
          ],
          "scattergl": [
           {
            "marker": {
             "colorbar": {
              "outlinewidth": 0,
              "ticks": ""
             }
            },
            "type": "scattergl"
           }
          ],
          "scattermap": [
           {
            "marker": {
             "colorbar": {
              "outlinewidth": 0,
              "ticks": ""
             }
            },
            "type": "scattermap"
           }
          ],
          "scattermapbox": [
           {
            "marker": {
             "colorbar": {
              "outlinewidth": 0,
              "ticks": ""
             }
            },
            "type": "scattermapbox"
           }
          ],
          "scatterpolar": [
           {
            "marker": {
             "colorbar": {
              "outlinewidth": 0,
              "ticks": ""
             }
            },
            "type": "scatterpolar"
           }
          ],
          "scatterpolargl": [
           {
            "marker": {
             "colorbar": {
              "outlinewidth": 0,
              "ticks": ""
             }
            },
            "type": "scatterpolargl"
           }
          ],
          "scatterternary": [
           {
            "marker": {
             "colorbar": {
              "outlinewidth": 0,
              "ticks": ""
             }
            },
            "type": "scatterternary"
           }
          ],
          "surface": [
           {
            "colorbar": {
             "outlinewidth": 0,
             "ticks": ""
            },
            "colorscale": [
             [
              0,
              "#0d0887"
             ],
             [
              0.1111111111111111,
              "#46039f"
             ],
             [
              0.2222222222222222,
              "#7201a8"
             ],
             [
              0.3333333333333333,
              "#9c179e"
             ],
             [
              0.4444444444444444,
              "#bd3786"
             ],
             [
              0.5555555555555556,
              "#d8576b"
             ],
             [
              0.6666666666666666,
              "#ed7953"
             ],
             [
              0.7777777777777778,
              "#fb9f3a"
             ],
             [
              0.8888888888888888,
              "#fdca26"
             ],
             [
              1,
              "#f0f921"
             ]
            ],
            "type": "surface"
           }
          ],
          "table": [
           {
            "cells": {
             "fill": {
              "color": "#EBF0F8"
             },
             "line": {
              "color": "white"
             }
            },
            "header": {
             "fill": {
              "color": "#C8D4E3"
             },
             "line": {
              "color": "white"
             }
            },
            "type": "table"
           }
          ]
         },
         "layout": {
          "annotationdefaults": {
           "arrowcolor": "#2a3f5f",
           "arrowhead": 0,
           "arrowwidth": 1
          },
          "autotypenumbers": "strict",
          "coloraxis": {
           "colorbar": {
            "outlinewidth": 0,
            "ticks": ""
           }
          },
          "colorscale": {
           "diverging": [
            [
             0,
             "#8e0152"
            ],
            [
             0.1,
             "#c51b7d"
            ],
            [
             0.2,
             "#de77ae"
            ],
            [
             0.3,
             "#f1b6da"
            ],
            [
             0.4,
             "#fde0ef"
            ],
            [
             0.5,
             "#f7f7f7"
            ],
            [
             0.6,
             "#e6f5d0"
            ],
            [
             0.7,
             "#b8e186"
            ],
            [
             0.8,
             "#7fbc41"
            ],
            [
             0.9,
             "#4d9221"
            ],
            [
             1,
             "#276419"
            ]
           ],
           "sequential": [
            [
             0,
             "#0d0887"
            ],
            [
             0.1111111111111111,
             "#46039f"
            ],
            [
             0.2222222222222222,
             "#7201a8"
            ],
            [
             0.3333333333333333,
             "#9c179e"
            ],
            [
             0.4444444444444444,
             "#bd3786"
            ],
            [
             0.5555555555555556,
             "#d8576b"
            ],
            [
             0.6666666666666666,
             "#ed7953"
            ],
            [
             0.7777777777777778,
             "#fb9f3a"
            ],
            [
             0.8888888888888888,
             "#fdca26"
            ],
            [
             1,
             "#f0f921"
            ]
           ],
           "sequentialminus": [
            [
             0,
             "#0d0887"
            ],
            [
             0.1111111111111111,
             "#46039f"
            ],
            [
             0.2222222222222222,
             "#7201a8"
            ],
            [
             0.3333333333333333,
             "#9c179e"
            ],
            [
             0.4444444444444444,
             "#bd3786"
            ],
            [
             0.5555555555555556,
             "#d8576b"
            ],
            [
             0.6666666666666666,
             "#ed7953"
            ],
            [
             0.7777777777777778,
             "#fb9f3a"
            ],
            [
             0.8888888888888888,
             "#fdca26"
            ],
            [
             1,
             "#f0f921"
            ]
           ]
          },
          "colorway": [
           "#636efa",
           "#EF553B",
           "#00cc96",
           "#ab63fa",
           "#FFA15A",
           "#19d3f3",
           "#FF6692",
           "#B6E880",
           "#FF97FF",
           "#FECB52"
          ],
          "font": {
           "color": "#2a3f5f"
          },
          "geo": {
           "bgcolor": "white",
           "lakecolor": "white",
           "landcolor": "#E5ECF6",
           "showlakes": true,
           "showland": true,
           "subunitcolor": "white"
          },
          "hoverlabel": {
           "align": "left"
          },
          "hovermode": "closest",
          "mapbox": {
           "style": "light"
          },
          "paper_bgcolor": "white",
          "plot_bgcolor": "#E5ECF6",
          "polar": {
           "angularaxis": {
            "gridcolor": "white",
            "linecolor": "white",
            "ticks": ""
           },
           "bgcolor": "#E5ECF6",
           "radialaxis": {
            "gridcolor": "white",
            "linecolor": "white",
            "ticks": ""
           }
          },
          "scene": {
           "xaxis": {
            "backgroundcolor": "#E5ECF6",
            "gridcolor": "white",
            "gridwidth": 2,
            "linecolor": "white",
            "showbackground": true,
            "ticks": "",
            "zerolinecolor": "white"
           },
           "yaxis": {
            "backgroundcolor": "#E5ECF6",
            "gridcolor": "white",
            "gridwidth": 2,
            "linecolor": "white",
            "showbackground": true,
            "ticks": "",
            "zerolinecolor": "white"
           },
           "zaxis": {
            "backgroundcolor": "#E5ECF6",
            "gridcolor": "white",
            "gridwidth": 2,
            "linecolor": "white",
            "showbackground": true,
            "ticks": "",
            "zerolinecolor": "white"
           }
          },
          "shapedefaults": {
           "line": {
            "color": "#2a3f5f"
           }
          },
          "ternary": {
           "aaxis": {
            "gridcolor": "white",
            "linecolor": "white",
            "ticks": ""
           },
           "baxis": {
            "gridcolor": "white",
            "linecolor": "white",
            "ticks": ""
           },
           "bgcolor": "#E5ECF6",
           "caxis": {
            "gridcolor": "white",
            "linecolor": "white",
            "ticks": ""
           }
          },
          "title": {
           "x": 0.05
          },
          "xaxis": {
           "automargin": true,
           "gridcolor": "white",
           "linecolor": "white",
           "ticks": "",
           "title": {
            "standoff": 15
           },
           "zerolinecolor": "white",
           "zerolinewidth": 2
          },
          "yaxis": {
           "automargin": true,
           "gridcolor": "white",
           "linecolor": "white",
           "ticks": "",
           "title": {
            "standoff": 15
           },
           "zerolinecolor": "white",
           "zerolinewidth": 2
          }
         }
        },
        "width": 800,
        "xaxis": {
         "tickfont": {
          "size": 16
         },
         "tickvals": {
          "bdata": "mpmZmZmZuT+amZmZmZnJPzMzMzMzM9M/mpmZmZmZ2T8AAAAAAADgPzMzMzMzM+M/ZmZmZmZm5j+amZmZmZnpP83MzMzMzOw/AAAAAAAA8D8=",
          "dtype": "f8"
         },
         "title": {
          "font": {
           "size": 22
          },
          "text": "t"
         }
        },
        "yaxis": {
         "tickfont": {
          "size": 16
         },
         "title": {
          "font": {
           "size": 22
          },
          "text": "Métricas"
         }
        }
       }
      }
     },
     "metadata": {},
     "output_type": "display_data"
    }
   ],
   "source": [
    "# Filtrar los resultados para k=1 y l=1 (solo t-closeness)\n",
    "filtered = {t_val: df for (k_val, l_val, t_val), df in usability_dict.items() if k_val == 1 and l_val == 1 and t_val in t_all_values}\n",
    "\n",
    "# Preparar los datos para el diagrama de cajas\n",
    "data_acc = []\n",
    "data_pre = []\n",
    "data_rec = []\n",
    "data_f1 = []\n",
    "for t_val, df in filtered.items():\n",
    "    accuracies = df['accuracy'].values.astype(float)\n",
    "    precisions = df['precision'].values.astype(float)\n",
    "    recalls = df['recall'].values.astype(float)\n",
    "    f1_scores = df['f1_score'].values.astype(float)\n",
    "    for v in accuracies:\n",
    "        data_acc.append({'t': t_val, 'accuracy': v})\n",
    "    for v in precisions:\n",
    "        data_pre.append({'t': t_val, 'precision': v})\n",
    "    for v in recalls:\n",
    "        data_rec.append({'t': t_val, 'recall': v})\n",
    "    for v in f1_scores:\n",
    "        data_f1.append({'t': t_val, 'f1_score': v})\n",
    "\n",
    "box_acc_df = pd.DataFrame(data_acc)\n",
    "box_pre_df = pd.DataFrame(data_pre)\n",
    "box_rec_df = pd.DataFrame(data_rec)\n",
    "box_f1_df = pd.DataFrame(data_f1)\n",
    "\n",
    "box_df = pd.concat([\n",
    "    box_acc_df.rename(columns={'accuracy': 'value'}).assign(metric='accuracy'),\n",
    "    box_pre_df.rename(columns={'precision': 'value'}).assign(metric='precision'),\n",
    "    box_rec_df.rename(columns={'recall': 'value'}).assign(metric='recall'),\n",
    "    box_f1_df.rename(columns={'f1_score': 'value'}).assign(metric='f1_score')\n",
    "])\n",
    "\n",
    "# Calcular la mediana para cada t y métrica\n",
    "median_df = box_df.groupby(['t', 'metric'], as_index=False)['value'].median()\n",
    "\n",
    "fig = go.Figure()\n",
    "\n",
    "# Añadir líneas de medianas para cada métrica\n",
    "for metric, color in zip(['accuracy', 'precision', 'recall', 'f1_score'], ['#636efa', '#EF553B', '#00cc96', '#ab63fa']):\n",
    "    med = median_df[median_df['metric'] == metric]\n",
    "    fig.add_trace(go.Scatter(\n",
    "        x=med['t'],\n",
    "        y=med['value'],\n",
    "        mode='lines+markers',\n",
    "        name=f'{metric.capitalize()}',\n",
    "        line=dict(color=color, width=3),\n",
    "        marker=dict(size=10),\n",
    "        showlegend=True,\n",
    "    ))\n",
    "\n",
    "fig.update_layout(\n",
    "    legend=dict(\n",
    "        orientation='h',\n",
    "        yanchor='bottom',\n",
    "        y=-0.25,\n",
    "        xanchor='center',\n",
    "        x=0.5,\n",
    "        font=dict(size=16),\n",
    "        title=dict(text='Métricas', font=dict(size=18))\n",
    "\n",
    "    ),\n",
    "    xaxis=dict(\n",
    "        title='t',\n",
    "        tickvals=box_df['t'].unique(),\n",
    "        title_font=dict(size=22),\n",
    "        tickfont=dict(size=16)\n",
    "    ),\n",
    "    yaxis=dict(\n",
    "        title='Métricas',\n",
    "        title_font=dict(size=22),\n",
    "        tickfont=dict(size=16)\n",
    "    ),\n",
    "    margin=dict(l=0, r=0, t=0, b=0),\n",
    "    height=400,\n",
    "    width=800\n",
    ")\n",
    "fig.update_layout(boxmode='group', boxgroupgap=0)\n",
    "# fig.write_image(\"../Memoria/images/graphs/usability-vs-t_closeness.png\")\n",
    "fig.show()"
   ]
  },
  {
   "cell_type": "markdown",
   "id": "10556e0b",
   "metadata": {},
   "source": [
    "### Resultados de aplicar únicamente k-anonimity y l-diversity."
   ]
  },
  {
   "cell_type": "code",
   "execution_count": 34,
   "id": "b6cdcaec",
   "metadata": {},
   "outputs": [
    {
     "data": {
      "application/vnd.plotly.v1+json": {
       "config": {
        "plotlyServerURL": "https://plot.ly"
       },
       "data": [
        {
         "line": {
          "color": "blue",
          "width": 3
         },
         "marker": {
          "size": 10
         },
         "mode": "lines+markers",
         "name": "Accuracy (l=1)",
         "showlegend": true,
         "type": "scatter",
         "x": {
          "bdata": "AQIECBAgQA==",
          "dtype": "i1"
         },
         "y": {
          "bdata": "aBmCSzpU7D80mHs9d9/jP6jJGJmNbOM/X2rxhK5w4z/EQkwezFbmPzKSwXgNPuU/WP2VZ78v5j8=",
          "dtype": "f8"
         }
        },
        {
         "line": {
          "color": "skyblue",
          "width": 3
         },
         "marker": {
          "size": 10
         },
         "mode": "lines+markers",
         "name": "Accuracy (l=2)",
         "showlegend": true,
         "type": "scatter",
         "x": {
          "bdata": "AQIECBAgQA==",
          "dtype": "i1"
         },
         "y": {
          "bdata": "LMgcnmw34j8syByebDfiP7dDXDE6i+E/ni6gHwGj5j9Y/ZVnvy/mP0Sr6XFyK+Y/wmk7xBWj4z8=",
          "dtype": "f8"
         }
        },
        {
         "line": {
          "color": "red",
          "width": 3
         },
         "marker": {
          "size": 10
         },
         "mode": "lines+markers",
         "name": "Precision (l=1)",
         "showlegend": true,
         "type": "scatter",
         "x": {
          "bdata": "AQIECBAgQA==",
          "dtype": "i1"
         },
         "y": {
          "bdata": "dYJnnTEJ6j90kSEv9/3JP/tyuVcbqNA/IShMSC1wzD+q+Gnr17XMP6Un6Ul6ks4/bx375ePg0T8=",
          "dtype": "f8"
         }
        },
        {
         "line": {
          "color": "orange",
          "width": 3
         },
         "marker": {
          "size": 10
         },
         "mode": "lines+markers",
         "name": "Precision (l=2)",
         "showlegend": true,
         "type": "scatter",
         "x": {
          "bdata": "AQIECBAgQA==",
          "dtype": "i1"
         },
         "y": {
          "bdata": "zzGCv2jayz/PMYK/aNrLP6r4aevXtcw/Mj/1nMCPzj93d3OG1sfNP503IH2IGdM/dWRMhLkH0j8=",
          "dtype": "f8"
         }
        }
       ],
       "layout": {
        "height": 400,
        "legend": {
         "font": {
          "size": 16
         },
         "orientation": "h",
         "title": {
          "font": {
           "size": 18
          },
          "text": "Métricas"
         },
         "x": 0.5,
         "xanchor": "center",
         "y": -0.25,
         "yanchor": "bottom"
        },
        "margin": {
         "b": 0,
         "l": 0,
         "r": 0,
         "t": 0
        },
        "template": {
         "data": {
          "bar": [
           {
            "error_x": {
             "color": "#2a3f5f"
            },
            "error_y": {
             "color": "#2a3f5f"
            },
            "marker": {
             "line": {
              "color": "#E5ECF6",
              "width": 0.5
             },
             "pattern": {
              "fillmode": "overlay",
              "size": 10,
              "solidity": 0.2
             }
            },
            "type": "bar"
           }
          ],
          "barpolar": [
           {
            "marker": {
             "line": {
              "color": "#E5ECF6",
              "width": 0.5
             },
             "pattern": {
              "fillmode": "overlay",
              "size": 10,
              "solidity": 0.2
             }
            },
            "type": "barpolar"
           }
          ],
          "carpet": [
           {
            "aaxis": {
             "endlinecolor": "#2a3f5f",
             "gridcolor": "white",
             "linecolor": "white",
             "minorgridcolor": "white",
             "startlinecolor": "#2a3f5f"
            },
            "baxis": {
             "endlinecolor": "#2a3f5f",
             "gridcolor": "white",
             "linecolor": "white",
             "minorgridcolor": "white",
             "startlinecolor": "#2a3f5f"
            },
            "type": "carpet"
           }
          ],
          "choropleth": [
           {
            "colorbar": {
             "outlinewidth": 0,
             "ticks": ""
            },
            "type": "choropleth"
           }
          ],
          "contour": [
           {
            "colorbar": {
             "outlinewidth": 0,
             "ticks": ""
            },
            "colorscale": [
             [
              0,
              "#0d0887"
             ],
             [
              0.1111111111111111,
              "#46039f"
             ],
             [
              0.2222222222222222,
              "#7201a8"
             ],
             [
              0.3333333333333333,
              "#9c179e"
             ],
             [
              0.4444444444444444,
              "#bd3786"
             ],
             [
              0.5555555555555556,
              "#d8576b"
             ],
             [
              0.6666666666666666,
              "#ed7953"
             ],
             [
              0.7777777777777778,
              "#fb9f3a"
             ],
             [
              0.8888888888888888,
              "#fdca26"
             ],
             [
              1,
              "#f0f921"
             ]
            ],
            "type": "contour"
           }
          ],
          "contourcarpet": [
           {
            "colorbar": {
             "outlinewidth": 0,
             "ticks": ""
            },
            "type": "contourcarpet"
           }
          ],
          "heatmap": [
           {
            "colorbar": {
             "outlinewidth": 0,
             "ticks": ""
            },
            "colorscale": [
             [
              0,
              "#0d0887"
             ],
             [
              0.1111111111111111,
              "#46039f"
             ],
             [
              0.2222222222222222,
              "#7201a8"
             ],
             [
              0.3333333333333333,
              "#9c179e"
             ],
             [
              0.4444444444444444,
              "#bd3786"
             ],
             [
              0.5555555555555556,
              "#d8576b"
             ],
             [
              0.6666666666666666,
              "#ed7953"
             ],
             [
              0.7777777777777778,
              "#fb9f3a"
             ],
             [
              0.8888888888888888,
              "#fdca26"
             ],
             [
              1,
              "#f0f921"
             ]
            ],
            "type": "heatmap"
           }
          ],
          "histogram": [
           {
            "marker": {
             "pattern": {
              "fillmode": "overlay",
              "size": 10,
              "solidity": 0.2
             }
            },
            "type": "histogram"
           }
          ],
          "histogram2d": [
           {
            "colorbar": {
             "outlinewidth": 0,
             "ticks": ""
            },
            "colorscale": [
             [
              0,
              "#0d0887"
             ],
             [
              0.1111111111111111,
              "#46039f"
             ],
             [
              0.2222222222222222,
              "#7201a8"
             ],
             [
              0.3333333333333333,
              "#9c179e"
             ],
             [
              0.4444444444444444,
              "#bd3786"
             ],
             [
              0.5555555555555556,
              "#d8576b"
             ],
             [
              0.6666666666666666,
              "#ed7953"
             ],
             [
              0.7777777777777778,
              "#fb9f3a"
             ],
             [
              0.8888888888888888,
              "#fdca26"
             ],
             [
              1,
              "#f0f921"
             ]
            ],
            "type": "histogram2d"
           }
          ],
          "histogram2dcontour": [
           {
            "colorbar": {
             "outlinewidth": 0,
             "ticks": ""
            },
            "colorscale": [
             [
              0,
              "#0d0887"
             ],
             [
              0.1111111111111111,
              "#46039f"
             ],
             [
              0.2222222222222222,
              "#7201a8"
             ],
             [
              0.3333333333333333,
              "#9c179e"
             ],
             [
              0.4444444444444444,
              "#bd3786"
             ],
             [
              0.5555555555555556,
              "#d8576b"
             ],
             [
              0.6666666666666666,
              "#ed7953"
             ],
             [
              0.7777777777777778,
              "#fb9f3a"
             ],
             [
              0.8888888888888888,
              "#fdca26"
             ],
             [
              1,
              "#f0f921"
             ]
            ],
            "type": "histogram2dcontour"
           }
          ],
          "mesh3d": [
           {
            "colorbar": {
             "outlinewidth": 0,
             "ticks": ""
            },
            "type": "mesh3d"
           }
          ],
          "parcoords": [
           {
            "line": {
             "colorbar": {
              "outlinewidth": 0,
              "ticks": ""
             }
            },
            "type": "parcoords"
           }
          ],
          "pie": [
           {
            "automargin": true,
            "type": "pie"
           }
          ],
          "scatter": [
           {
            "fillpattern": {
             "fillmode": "overlay",
             "size": 10,
             "solidity": 0.2
            },
            "type": "scatter"
           }
          ],
          "scatter3d": [
           {
            "line": {
             "colorbar": {
              "outlinewidth": 0,
              "ticks": ""
             }
            },
            "marker": {
             "colorbar": {
              "outlinewidth": 0,
              "ticks": ""
             }
            },
            "type": "scatter3d"
           }
          ],
          "scattercarpet": [
           {
            "marker": {
             "colorbar": {
              "outlinewidth": 0,
              "ticks": ""
             }
            },
            "type": "scattercarpet"
           }
          ],
          "scattergeo": [
           {
            "marker": {
             "colorbar": {
              "outlinewidth": 0,
              "ticks": ""
             }
            },
            "type": "scattergeo"
           }
          ],
          "scattergl": [
           {
            "marker": {
             "colorbar": {
              "outlinewidth": 0,
              "ticks": ""
             }
            },
            "type": "scattergl"
           }
          ],
          "scattermap": [
           {
            "marker": {
             "colorbar": {
              "outlinewidth": 0,
              "ticks": ""
             }
            },
            "type": "scattermap"
           }
          ],
          "scattermapbox": [
           {
            "marker": {
             "colorbar": {
              "outlinewidth": 0,
              "ticks": ""
             }
            },
            "type": "scattermapbox"
           }
          ],
          "scatterpolar": [
           {
            "marker": {
             "colorbar": {
              "outlinewidth": 0,
              "ticks": ""
             }
            },
            "type": "scatterpolar"
           }
          ],
          "scatterpolargl": [
           {
            "marker": {
             "colorbar": {
              "outlinewidth": 0,
              "ticks": ""
             }
            },
            "type": "scatterpolargl"
           }
          ],
          "scatterternary": [
           {
            "marker": {
             "colorbar": {
              "outlinewidth": 0,
              "ticks": ""
             }
            },
            "type": "scatterternary"
           }
          ],
          "surface": [
           {
            "colorbar": {
             "outlinewidth": 0,
             "ticks": ""
            },
            "colorscale": [
             [
              0,
              "#0d0887"
             ],
             [
              0.1111111111111111,
              "#46039f"
             ],
             [
              0.2222222222222222,
              "#7201a8"
             ],
             [
              0.3333333333333333,
              "#9c179e"
             ],
             [
              0.4444444444444444,
              "#bd3786"
             ],
             [
              0.5555555555555556,
              "#d8576b"
             ],
             [
              0.6666666666666666,
              "#ed7953"
             ],
             [
              0.7777777777777778,
              "#fb9f3a"
             ],
             [
              0.8888888888888888,
              "#fdca26"
             ],
             [
              1,
              "#f0f921"
             ]
            ],
            "type": "surface"
           }
          ],
          "table": [
           {
            "cells": {
             "fill": {
              "color": "#EBF0F8"
             },
             "line": {
              "color": "white"
             }
            },
            "header": {
             "fill": {
              "color": "#C8D4E3"
             },
             "line": {
              "color": "white"
             }
            },
            "type": "table"
           }
          ]
         },
         "layout": {
          "annotationdefaults": {
           "arrowcolor": "#2a3f5f",
           "arrowhead": 0,
           "arrowwidth": 1
          },
          "autotypenumbers": "strict",
          "coloraxis": {
           "colorbar": {
            "outlinewidth": 0,
            "ticks": ""
           }
          },
          "colorscale": {
           "diverging": [
            [
             0,
             "#8e0152"
            ],
            [
             0.1,
             "#c51b7d"
            ],
            [
             0.2,
             "#de77ae"
            ],
            [
             0.3,
             "#f1b6da"
            ],
            [
             0.4,
             "#fde0ef"
            ],
            [
             0.5,
             "#f7f7f7"
            ],
            [
             0.6,
             "#e6f5d0"
            ],
            [
             0.7,
             "#b8e186"
            ],
            [
             0.8,
             "#7fbc41"
            ],
            [
             0.9,
             "#4d9221"
            ],
            [
             1,
             "#276419"
            ]
           ],
           "sequential": [
            [
             0,
             "#0d0887"
            ],
            [
             0.1111111111111111,
             "#46039f"
            ],
            [
             0.2222222222222222,
             "#7201a8"
            ],
            [
             0.3333333333333333,
             "#9c179e"
            ],
            [
             0.4444444444444444,
             "#bd3786"
            ],
            [
             0.5555555555555556,
             "#d8576b"
            ],
            [
             0.6666666666666666,
             "#ed7953"
            ],
            [
             0.7777777777777778,
             "#fb9f3a"
            ],
            [
             0.8888888888888888,
             "#fdca26"
            ],
            [
             1,
             "#f0f921"
            ]
           ],
           "sequentialminus": [
            [
             0,
             "#0d0887"
            ],
            [
             0.1111111111111111,
             "#46039f"
            ],
            [
             0.2222222222222222,
             "#7201a8"
            ],
            [
             0.3333333333333333,
             "#9c179e"
            ],
            [
             0.4444444444444444,
             "#bd3786"
            ],
            [
             0.5555555555555556,
             "#d8576b"
            ],
            [
             0.6666666666666666,
             "#ed7953"
            ],
            [
             0.7777777777777778,
             "#fb9f3a"
            ],
            [
             0.8888888888888888,
             "#fdca26"
            ],
            [
             1,
             "#f0f921"
            ]
           ]
          },
          "colorway": [
           "#636efa",
           "#EF553B",
           "#00cc96",
           "#ab63fa",
           "#FFA15A",
           "#19d3f3",
           "#FF6692",
           "#B6E880",
           "#FF97FF",
           "#FECB52"
          ],
          "font": {
           "color": "#2a3f5f"
          },
          "geo": {
           "bgcolor": "white",
           "lakecolor": "white",
           "landcolor": "#E5ECF6",
           "showlakes": true,
           "showland": true,
           "subunitcolor": "white"
          },
          "hoverlabel": {
           "align": "left"
          },
          "hovermode": "closest",
          "mapbox": {
           "style": "light"
          },
          "paper_bgcolor": "white",
          "plot_bgcolor": "#E5ECF6",
          "polar": {
           "angularaxis": {
            "gridcolor": "white",
            "linecolor": "white",
            "ticks": ""
           },
           "bgcolor": "#E5ECF6",
           "radialaxis": {
            "gridcolor": "white",
            "linecolor": "white",
            "ticks": ""
           }
          },
          "scene": {
           "xaxis": {
            "backgroundcolor": "#E5ECF6",
            "gridcolor": "white",
            "gridwidth": 2,
            "linecolor": "white",
            "showbackground": true,
            "ticks": "",
            "zerolinecolor": "white"
           },
           "yaxis": {
            "backgroundcolor": "#E5ECF6",
            "gridcolor": "white",
            "gridwidth": 2,
            "linecolor": "white",
            "showbackground": true,
            "ticks": "",
            "zerolinecolor": "white"
           },
           "zaxis": {
            "backgroundcolor": "#E5ECF6",
            "gridcolor": "white",
            "gridwidth": 2,
            "linecolor": "white",
            "showbackground": true,
            "ticks": "",
            "zerolinecolor": "white"
           }
          },
          "shapedefaults": {
           "line": {
            "color": "#2a3f5f"
           }
          },
          "ternary": {
           "aaxis": {
            "gridcolor": "white",
            "linecolor": "white",
            "ticks": ""
           },
           "baxis": {
            "gridcolor": "white",
            "linecolor": "white",
            "ticks": ""
           },
           "bgcolor": "#E5ECF6",
           "caxis": {
            "gridcolor": "white",
            "linecolor": "white",
            "ticks": ""
           }
          },
          "title": {
           "x": 0.05
          },
          "xaxis": {
           "automargin": true,
           "gridcolor": "white",
           "linecolor": "white",
           "ticks": "",
           "title": {
            "standoff": 15
           },
           "zerolinecolor": "white",
           "zerolinewidth": 2
          },
          "yaxis": {
           "automargin": true,
           "gridcolor": "white",
           "linecolor": "white",
           "ticks": "",
           "title": {
            "standoff": 15
           },
           "zerolinecolor": "white",
           "zerolinewidth": 2
          }
         }
        },
        "width": 800,
        "xaxis": {
         "tickfont": {
          "size": 16
         },
         "ticktext": [
          "1",
          "16",
          "2",
          "32",
          "4",
          "64",
          "8"
         ],
         "tickvals": {
          "bdata": "ARACIARACA==",
          "dtype": "i1"
         },
         "title": {
          "font": {
           "size": 22
          },
          "text": "K"
         },
         "type": "log"
        },
        "yaxis": {
         "tickfont": {
          "size": 16
         },
         "ticktext": [
          "1",
          "0.8",
          "0.6",
          "0.4",
          "0.2",
          "0"
         ],
         "tickvals": [
          1,
          0.8,
          0.6,
          0.4,
          0.2,
          0
         ],
         "title": {
          "font": {
           "size": 22
          },
          "text": "Métricas"
         }
        }
       }
      }
     },
     "metadata": {},
     "output_type": "display_data"
    }
   ],
   "source": [
    "# Filtrar los resultados para t=0 (solo k y l)\n",
    "data_acc = []\n",
    "data_pre = []\n",
    "for (k_val, l_val, t_val), df in usability_dict.items():\n",
    "    if t_val in [0, 1]:\n",
    "        for v in df['accuracy'].values.astype(float):\n",
    "            data_acc.append({'k': k_val, 'l': l_val, 'accuracy': v})\n",
    "        for v in df['precision'].values.astype(float):\n",
    "            data_pre.append({'k': k_val, 'l': l_val, 'precision': v})\n",
    "\n",
    "df_acc = pd.DataFrame(data_acc)\n",
    "df_pre = pd.DataFrame(data_pre)\n",
    "\n",
    "# Unir accuracy y precision en un solo DataFrame para ambos l\n",
    "box_acc_df_l1 = df_acc[df_acc['l'] == 1].rename(columns={'accuracy': 'value'}).assign(metric='accuracy', l='l=1')\n",
    "box_acc_df_l2 = df_acc[df_acc['l'] == 2].rename(columns={'accuracy': 'value'}).assign(metric='accuracy', l='l=2')\n",
    "box_pre_df_l1 = df_pre[df_pre['l'] == 1].rename(columns={'precision': 'value'}).assign(metric='precision', l='l=1')\n",
    "box_pre_df_l2 = df_pre[df_pre['l'] == 2].rename(columns={'precision': 'value'}).assign(metric='precision', l='l=2')\n",
    "\n",
    "plot_df = pd.concat([box_acc_df_l1, box_acc_df_l2, box_pre_df_l1, box_pre_df_l2])\n",
    "\n",
    "color_map = {\n",
    "    ('accuracy', 'l=1'): 'blue',\n",
    "    ('accuracy', 'l=2'): 'skyblue',\n",
    "    ('precision', 'l=1'): 'red',\n",
    "    ('precision', 'l=2'): 'orange'\n",
    "}\n",
    "\n",
    "fig = go.Figure()\n",
    "\n",
    "# Calcular la mediana para cada k, l y métrica\n",
    "median_acc = df_acc.groupby(['k', 'l'], as_index=False)['accuracy'].median()\n",
    "median_pre = df_pre.groupby(['k', 'l'], as_index=False)['precision'].median()\n",
    "\n",
    "# Unir accuracy y precision en un solo DataFrame para ambos l\n",
    "median_acc_l1 = median_acc[median_acc['l'] == 1].rename(columns={'accuracy': 'value'}).assign(metric='accuracy', l='l=1')\n",
    "median_acc_l2 = median_acc[median_acc['l'] == 2].rename(columns={'accuracy': 'value'}).assign(metric='accuracy', l='l=2')\n",
    "median_pre_l1 = median_pre[median_pre['l'] == 1].rename(columns={'precision': 'value'}).assign(metric='precision', l='l=1')\n",
    "median_pre_l2 = median_pre[median_pre['l'] == 2].rename(columns={'precision': 'value'}).assign(metric='precision', l='l=2')\n",
    "\n",
    "median_df = pd.concat([median_acc_l1, median_acc_l2, median_pre_l1, median_pre_l2])\n",
    "\n",
    "for (metric, l_val), group in median_df.groupby(['metric', 'l']):\n",
    "    fig.add_trace(go.Scatter(\n",
    "        x=group['k'],\n",
    "        y=group['value'],\n",
    "        mode='lines+markers',\n",
    "        name=f\"{metric.capitalize()} ({l_val})\",\n",
    "        marker=dict(size=10),\n",
    "        line=dict(\n",
    "            width=3 if l_val == 'l=2' else 3,\n",
    "            color=color_map[(metric, l_val)]\n",
    "            \n",
    "        ),\n",
    "        showlegend=True,\n",
    "    ))\n",
    "\n",
    "fig.update_layout(\n",
    "    legend=dict(\n",
    "        orientation='h',\n",
    "        yanchor='bottom',\n",
    "        y=-0.25,\n",
    "        xanchor='center',\n",
    "        x=0.5,\n",
    "        font=dict(size=16),\n",
    "        title=dict(text='Métricas', font=dict(size=18))\n",
    "\n",
    "    ),\n",
    "    xaxis=dict(\n",
    "        title='t',\n",
    "        tickvals=box_df['t'].unique(),\n",
    "        title_font=dict(size=22),\n",
    "        tickfont=dict(size=16)\n",
    "    ),\n",
    "    yaxis=dict(\n",
    "        title='Métricas',\n",
    "        title_font=dict(size=22),\n",
    "        tickfont=dict(size=16),\n",
    "        tickvals=[1, 0.8, 0.6, 0.4, 0.2, 0],\n",
    "        ticktext=[str(val) for val in [1, 0.8, 0.6, 0.4, 0.2, 0]]\n",
    "    ),\n",
    "    margin=dict(l=0, r=0, t=0, b=0),\n",
    "    height=400,\n",
    "    width=800\n",
    ")\n",
    "fig.update_xaxes(type='log', tickvals=plot_df['k'].unique(), ticktext=[f\"{int(val)}\" for val in plot_df['k'].unique()], title_text='K')\n",
    "fig.write_image(\"../Memoria/images/graphs/usability-vs-k_anonymity-l_diversity.png\")\n",
    "fig.show()\n"
   ]
  },
  {
   "cell_type": "markdown",
   "id": "91c8f6f0",
   "metadata": {},
   "source": [
    "Las siguientes superficies muestran cómo varían las métricas de `accuracy` y `precision` en función de los parámetros de anonimización k y t, para cada valor de l. Estas gráficas permiten visualizar el impacto combinado de k-anonimity y t-closeness sobre la utilidad de los datos, facilitando la identificación de regiones donde se logra un mejor equilibrio entre privacidad y precisión de los modelos. El uso de superficies suavizadas mediante interpolación ayuda a observar tendencias generales y posibles puntos óptimos en el espacio de parámetros."
   ]
  },
  {
   "cell_type": "code",
   "execution_count": null,
   "id": "c0c10aa9",
   "metadata": {},
   "outputs": [
    {
     "data": {
      "application/vnd.jupyter.widget-view+json": {
       "model_id": "2d2235915f0e447d87ed73f2848de2ec",
       "version_major": 2,
       "version_minor": 0
      },
      "text/plain": [
       "ToggleButtons(description='Métrica:', options=('accuracy', 'precision'), value='accuracy')"
      ]
     },
     "metadata": {},
     "output_type": "display_data"
    },
    {
     "data": {
      "application/vnd.jupyter.widget-view+json": {
       "model_id": "706fd479718544c5a73c02d88e8d7f05",
       "version_major": 2,
       "version_minor": 0
      },
      "text/plain": [
       "SelectionSlider(continuous_update=False, description='l:', options=(1, 2), value=1)"
      ]
     },
     "metadata": {},
     "output_type": "display_data"
    },
    {
     "data": {
      "application/vnd.jupyter.widget-view+json": {
       "model_id": "bb825af1cf8644649f5fda7f476b1e85",
       "version_major": 2,
       "version_minor": 0
      },
      "text/plain": [
       "Output()"
      ]
     },
     "metadata": {},
     "output_type": "display_data"
    }
   ],
   "source": [
    "# Generador de figuras\n",
    "def plot_surface(metric: str, selected_l: int) -> go.Figure:\n",
    "    data = []\n",
    "    for (k_val, l_val, t_val), df in usability_dict.items():\n",
    "        if l_val == selected_l and t_val >= 0.1:\n",
    "            data.append({'k': k_val, 't': t_val, metric: df[metric].median()})\n",
    "\n",
    "    df = pd.DataFrame(data)\n",
    "    df_grouped = df.groupby(['k', 't'], as_index=False).median()\n",
    "\n",
    "    z = df_grouped.pivot(index='k', columns='t', values=metric).values\n",
    "    x = df_grouped['k'].unique()\n",
    "    y = df_grouped['t'].unique()\n",
    "\n",
    "    # Interpolación para suavizar la superficie\n",
    "\n",
    "    # Crear una malla regular para k y t\n",
    "    k_vals = df_grouped['k'].unique()\n",
    "    t_vals = df_grouped['t'].unique()\n",
    "    k_grid, t_grid = np.meshgrid(\n",
    "        np.logspace(np.log10(k_vals.min()), np.log10(k_vals.max()), 50),\n",
    "        np.linspace(t_vals.min(), t_vals.max(), 50)\n",
    "    )\n",
    "\n",
    "    # Interpolar los valores de la métrica\n",
    "    points = df_grouped[['k', 't']].values\n",
    "    values = df_grouped[metric].values\n",
    "    z_grid = griddata(points, values, (k_grid, t_grid), method='cubic')\n",
    "\n",
    "    fig = go.Figure(data=go.Surface(\n",
    "        z=z_grid,\n",
    "        x=k_grid,\n",
    "        y=t_grid,\n",
    "        colorscale='Viridis',\n",
    "        showscale=False\n",
    "    ))\n",
    "\n",
    "    fig.update_scenes(\n",
    "        xaxis=dict(\n",
    "            type='log',\n",
    "            tickvals=k_vals,\n",
    "            ticktext=[str(int(val)) for val in k_vals],\n",
    "            title_text='k'\n",
    "        )\n",
    "    )\n",
    "\n",
    "    fig.update_layout(\n",
    "        # title=f'Superficie de {metric.capitalize()} en función de k y t (l={selected_l})',\n",
    "        scene=dict(\n",
    "            xaxis_title='K',\n",
    "            yaxis_title='T',\n",
    "            zaxis_title=metric.capitalize(),\n",
    "        ),\n",
    "    margin=dict(l=0, r=0, t=0, b=0),\n",
    "    height=600,\n",
    "    width=600\n",
    "    )\n",
    "    return fig\n",
    "\n",
    "metric_values = ['accuracy', 'precision']\n",
    "l_values = [1, 2]\n",
    "\n",
    "precalculated_figs = {\n",
    "    (metric, l): plot_surface(metric, l)\n",
    "    for metric in metric_values for l in l_values\n",
    "}\n",
    "\n",
    "# for (metric, l), fig in precalculated_figs.items():\n",
    "#     if metric == 'accuracy':\n",
    "#         fig.write_image(f\"../Memoria/images/graphs/{metric}-l_{l}-surface.png\")\n",
    "\n",
    "def plot_surface(metric: str, selected_l: int) -> go.Figure:\n",
    "    if (metric, selected_l) in precalculated_figs:\n",
    "        return precalculated_figs[(metric, selected_l)]\n",
    "    else:\n",
    "        return plot_surface(metric, selected_l)\n",
    "\n",
    "# Widgets para seleccionar la métrica y el valor de l\n",
    "metric_selector = widgets.ToggleButtons(\n",
    "    options=metric_values,\n",
    "    value='accuracy',\n",
    "    description='Métrica:',\n",
    "    button_style=''\n",
    ")\n",
    "l_selector = widgets.SelectionSlider(\n",
    "    options=l_values,\n",
    "    value=1,\n",
    "    description='l:',\n",
    "    continuous_update=False\n",
    ")\n",
    "# Usar Output widget para actualizar la gráfica sin duplicados\n",
    "output = widgets.Output()\n",
    "\n",
    "def update_plot(change=None):\n",
    "    with output:\n",
    "        output.clear_output(wait=True)\n",
    "        fig = plot_surface(metric_selector.value, l_selector.value)\n",
    "        fig.show()\n",
    "\n",
    "metric_selector.observe(update_plot, names='value')\n",
    "l_selector.observe(update_plot, names='value')\n",
    "\n",
    "display(metric_selector, l_selector, output)\n",
    "update_plot()\n"
   ]
  },
  {
   "cell_type": "code",
   "execution_count": null,
   "id": "3e90ab90",
   "metadata": {},
   "outputs": [],
   "source": []
  }
 ],
 "metadata": {
  "kernelspec": {
   "display_name": "Python 3",
   "language": "python",
   "name": "python3"
  },
  "language_info": {
   "codemirror_mode": {
    "name": "ipython",
    "version": 3
   },
   "file_extension": ".py",
   "mimetype": "text/x-python",
   "name": "python",
   "nbconvert_exporter": "python",
   "pygments_lexer": "ipython3",
   "version": "3.13.1"
  }
 },
 "nbformat": 4,
 "nbformat_minor": 5
}
