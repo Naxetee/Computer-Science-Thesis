{
 "cells": [
  {
   "cell_type": "code",
   "execution_count": 39,
   "id": "c7e9fa0c",
   "metadata": {},
   "outputs": [],
   "source": [
    "import os\n",
    "import re\n",
    "import pandas as pd\n",
    "import numpy as np\n",
    "import plotly.express as px\n",
    "import plotly.graph_objects as go\n",
    "import ipywidgets as widgets\n",
    "from IPython.display import display\n",
    "from scipy.interpolate import griddata"
   ]
  },
  {
   "cell_type": "code",
   "execution_count": 40,
   "id": "1d258ca3",
   "metadata": {},
   "outputs": [],
   "source": [
    "usability_df = pd.read_csv('../data/adults/results/usability/usability_anonymized.csv')\n",
    "anonymity_df = pd.read_csv('../data/adults/results/anonymization/anonymization_results.csv')"
   ]
  },
  {
   "cell_type": "code",
   "execution_count": 41,
   "id": "6577e1e4",
   "metadata": {},
   "outputs": [],
   "source": [
    "# Vamos a ordenar los 'QIDs' algabéticamente\n",
    "usability_df['dataset'] = usability_df['dataset'].apply(lambda x: ', '.join(sorted(x.split(', '))))\n",
    "anonymity_df['QIDs'] = anonymity_df['QIDs'].apply(lambda x: ', '.join(sorted(x.split(', '))))"
   ]
  },
  {
   "cell_type": "code",
   "execution_count": 42,
   "id": "abf8af08",
   "metadata": {},
   "outputs": [],
   "source": [
    "# Hacemos merge de los dos DataFrames en base a los 'dataset' y 'QIDs' dejando los que coinciden\n",
    "merged_df = pd.merge(usability_df, anonymity_df, left_on='dataset', right_on='QIDs', how='inner')"
   ]
  },
  {
   "cell_type": "code",
   "execution_count": 43,
   "id": "0cc3817e",
   "metadata": {},
   "outputs": [],
   "source": [
    "# Ahora añadimos el número de QIDs como una nueva columna\n",
    "merged_df['num_QIDs'] = merged_df['QIDs'].apply(lambda x: len(x.split(', ')))"
   ]
  },
  {
   "cell_type": "code",
   "execution_count": 44,
   "id": "483d2233",
   "metadata": {},
   "outputs": [
    {
     "name": "stdout",
     "output_type": "stream",
     "text": [
      "<class 'pandas.core.frame.DataFrame'>\n",
      "RangeIndex: 11279 entries, 0 to 11278\n",
      "Data columns (total 14 columns):\n",
      " #   Column                     Non-Null Count  Dtype  \n",
      "---  ------                     --------------  -----  \n",
      " 0   dataset                    11279 non-null  object \n",
      " 1   accuracy                   11279 non-null  float64\n",
      " 2   precision                  11279 non-null  float64\n",
      " 3   recall                     11279 non-null  float64\n",
      " 4   f1_score                   11279 non-null  float64\n",
      " 5   path                       11279 non-null  object \n",
      " 6   risk_distance              11279 non-null  float64\n",
      " 7   QIDs                       11279 non-null  object \n",
      " 8   Generalization Levels      11279 non-null  object \n",
      " 9   estimated_journalist_risk  11279 non-null  object \n",
      " 10  estimated_prosecutor_risk  11279 non-null  object \n",
      " 11  estimated_marketer_risk    11279 non-null  object \n",
      " 12  sample_uniques             11279 non-null  object \n",
      " 13  num_QIDs                   11279 non-null  int64  \n",
      "dtypes: float64(5), int64(1), object(8)\n",
      "memory usage: 1.2+ MB\n"
     ]
    }
   ],
   "source": [
    "merged_df.info()"
   ]
  },
  {
   "cell_type": "code",
   "execution_count": 45,
   "id": "3a59dbbb",
   "metadata": {},
   "outputs": [
    {
     "data": {
      "application/vnd.plotly.v1+json": {
       "config": {
        "plotlyServerURL": "https://plot.ly"
       },
       "data": [
        {
         "line": {
          "color": "blue",
          "width": 3
         },
         "marker": {
          "size": 10,
          "symbol": "circle"
         },
         "mode": "lines+markers",
         "name": "Accuracy",
         "type": "scatter",
         "x": {
          "bdata": "AQIDBAUGBwgJCgsMDQ4=",
          "dtype": "i1"
         },
         "y": {
          "bdata": "xIL/3v4p7D9BXuctIZTpP+QYYlhbIOk/+rXBpsSf6D8K/kj+cn3oP7EKPz2zWug/yDdLeOsu6D8Ihy0vWPznP3U4MhrLr+c/Zr3gip5c5z9EODl8jC/nP4//qeUGmeY/CKGZRldR4T+dbAT1/lnPPw==",
          "dtype": "f8"
         }
        },
        {
         "line": {
          "color": "red",
          "width": 3
         },
         "marker": {
          "size": 10,
          "symbol": "circle"
         },
         "mode": "lines+markers",
         "name": "Risk Distance",
         "type": "scatter",
         "x": {
          "bdata": "AQIDBAUGBwgJCgsMDQ4=",
          "dtype": "i1"
         },
         "y": {
          "bdata": "KY25w+GwaD8FkZQX6UulP2z5uWcm3Kk/k10eBNp0sD/51GAUBHWwP/nUYBQEdbA/+dRgFAR1sD/2MuVL4CuuP/Yy5UvgK64/oEs5FrArrj/2MuVL4CuuPyQ+j43S0ao/QLoxPmOAoj+CHThlkEiWPw==",
          "dtype": "f8"
         }
        }
       ],
       "layout": {
        "height": 400,
        "legend": {
         "font": {
          "size": 16
         },
         "orientation": "h",
         "title": {
          "font": {
           "size": 18
          }
         },
         "x": 0.5,
         "xanchor": "center",
         "y": -0.25,
         "yanchor": "bottom"
        },
        "margin": {
         "b": 0,
         "l": 0,
         "r": 0,
         "t": 0
        },
        "template": {
         "data": {
          "bar": [
           {
            "error_x": {
             "color": "#2a3f5f"
            },
            "error_y": {
             "color": "#2a3f5f"
            },
            "marker": {
             "line": {
              "color": "#E5ECF6",
              "width": 0.5
             },
             "pattern": {
              "fillmode": "overlay",
              "size": 10,
              "solidity": 0.2
             }
            },
            "type": "bar"
           }
          ],
          "barpolar": [
           {
            "marker": {
             "line": {
              "color": "#E5ECF6",
              "width": 0.5
             },
             "pattern": {
              "fillmode": "overlay",
              "size": 10,
              "solidity": 0.2
             }
            },
            "type": "barpolar"
           }
          ],
          "carpet": [
           {
            "aaxis": {
             "endlinecolor": "#2a3f5f",
             "gridcolor": "white",
             "linecolor": "white",
             "minorgridcolor": "white",
             "startlinecolor": "#2a3f5f"
            },
            "baxis": {
             "endlinecolor": "#2a3f5f",
             "gridcolor": "white",
             "linecolor": "white",
             "minorgridcolor": "white",
             "startlinecolor": "#2a3f5f"
            },
            "type": "carpet"
           }
          ],
          "choropleth": [
           {
            "colorbar": {
             "outlinewidth": 0,
             "ticks": ""
            },
            "type": "choropleth"
           }
          ],
          "contour": [
           {
            "colorbar": {
             "outlinewidth": 0,
             "ticks": ""
            },
            "colorscale": [
             [
              0,
              "#0d0887"
             ],
             [
              0.1111111111111111,
              "#46039f"
             ],
             [
              0.2222222222222222,
              "#7201a8"
             ],
             [
              0.3333333333333333,
              "#9c179e"
             ],
             [
              0.4444444444444444,
              "#bd3786"
             ],
             [
              0.5555555555555556,
              "#d8576b"
             ],
             [
              0.6666666666666666,
              "#ed7953"
             ],
             [
              0.7777777777777778,
              "#fb9f3a"
             ],
             [
              0.8888888888888888,
              "#fdca26"
             ],
             [
              1,
              "#f0f921"
             ]
            ],
            "type": "contour"
           }
          ],
          "contourcarpet": [
           {
            "colorbar": {
             "outlinewidth": 0,
             "ticks": ""
            },
            "type": "contourcarpet"
           }
          ],
          "heatmap": [
           {
            "colorbar": {
             "outlinewidth": 0,
             "ticks": ""
            },
            "colorscale": [
             [
              0,
              "#0d0887"
             ],
             [
              0.1111111111111111,
              "#46039f"
             ],
             [
              0.2222222222222222,
              "#7201a8"
             ],
             [
              0.3333333333333333,
              "#9c179e"
             ],
             [
              0.4444444444444444,
              "#bd3786"
             ],
             [
              0.5555555555555556,
              "#d8576b"
             ],
             [
              0.6666666666666666,
              "#ed7953"
             ],
             [
              0.7777777777777778,
              "#fb9f3a"
             ],
             [
              0.8888888888888888,
              "#fdca26"
             ],
             [
              1,
              "#f0f921"
             ]
            ],
            "type": "heatmap"
           }
          ],
          "histogram": [
           {
            "marker": {
             "pattern": {
              "fillmode": "overlay",
              "size": 10,
              "solidity": 0.2
             }
            },
            "type": "histogram"
           }
          ],
          "histogram2d": [
           {
            "colorbar": {
             "outlinewidth": 0,
             "ticks": ""
            },
            "colorscale": [
             [
              0,
              "#0d0887"
             ],
             [
              0.1111111111111111,
              "#46039f"
             ],
             [
              0.2222222222222222,
              "#7201a8"
             ],
             [
              0.3333333333333333,
              "#9c179e"
             ],
             [
              0.4444444444444444,
              "#bd3786"
             ],
             [
              0.5555555555555556,
              "#d8576b"
             ],
             [
              0.6666666666666666,
              "#ed7953"
             ],
             [
              0.7777777777777778,
              "#fb9f3a"
             ],
             [
              0.8888888888888888,
              "#fdca26"
             ],
             [
              1,
              "#f0f921"
             ]
            ],
            "type": "histogram2d"
           }
          ],
          "histogram2dcontour": [
           {
            "colorbar": {
             "outlinewidth": 0,
             "ticks": ""
            },
            "colorscale": [
             [
              0,
              "#0d0887"
             ],
             [
              0.1111111111111111,
              "#46039f"
             ],
             [
              0.2222222222222222,
              "#7201a8"
             ],
             [
              0.3333333333333333,
              "#9c179e"
             ],
             [
              0.4444444444444444,
              "#bd3786"
             ],
             [
              0.5555555555555556,
              "#d8576b"
             ],
             [
              0.6666666666666666,
              "#ed7953"
             ],
             [
              0.7777777777777778,
              "#fb9f3a"
             ],
             [
              0.8888888888888888,
              "#fdca26"
             ],
             [
              1,
              "#f0f921"
             ]
            ],
            "type": "histogram2dcontour"
           }
          ],
          "mesh3d": [
           {
            "colorbar": {
             "outlinewidth": 0,
             "ticks": ""
            },
            "type": "mesh3d"
           }
          ],
          "parcoords": [
           {
            "line": {
             "colorbar": {
              "outlinewidth": 0,
              "ticks": ""
             }
            },
            "type": "parcoords"
           }
          ],
          "pie": [
           {
            "automargin": true,
            "type": "pie"
           }
          ],
          "scatter": [
           {
            "fillpattern": {
             "fillmode": "overlay",
             "size": 10,
             "solidity": 0.2
            },
            "type": "scatter"
           }
          ],
          "scatter3d": [
           {
            "line": {
             "colorbar": {
              "outlinewidth": 0,
              "ticks": ""
             }
            },
            "marker": {
             "colorbar": {
              "outlinewidth": 0,
              "ticks": ""
             }
            },
            "type": "scatter3d"
           }
          ],
          "scattercarpet": [
           {
            "marker": {
             "colorbar": {
              "outlinewidth": 0,
              "ticks": ""
             }
            },
            "type": "scattercarpet"
           }
          ],
          "scattergeo": [
           {
            "marker": {
             "colorbar": {
              "outlinewidth": 0,
              "ticks": ""
             }
            },
            "type": "scattergeo"
           }
          ],
          "scattergl": [
           {
            "marker": {
             "colorbar": {
              "outlinewidth": 0,
              "ticks": ""
             }
            },
            "type": "scattergl"
           }
          ],
          "scattermap": [
           {
            "marker": {
             "colorbar": {
              "outlinewidth": 0,
              "ticks": ""
             }
            },
            "type": "scattermap"
           }
          ],
          "scattermapbox": [
           {
            "marker": {
             "colorbar": {
              "outlinewidth": 0,
              "ticks": ""
             }
            },
            "type": "scattermapbox"
           }
          ],
          "scatterpolar": [
           {
            "marker": {
             "colorbar": {
              "outlinewidth": 0,
              "ticks": ""
             }
            },
            "type": "scatterpolar"
           }
          ],
          "scatterpolargl": [
           {
            "marker": {
             "colorbar": {
              "outlinewidth": 0,
              "ticks": ""
             }
            },
            "type": "scatterpolargl"
           }
          ],
          "scatterternary": [
           {
            "marker": {
             "colorbar": {
              "outlinewidth": 0,
              "ticks": ""
             }
            },
            "type": "scatterternary"
           }
          ],
          "surface": [
           {
            "colorbar": {
             "outlinewidth": 0,
             "ticks": ""
            },
            "colorscale": [
             [
              0,
              "#0d0887"
             ],
             [
              0.1111111111111111,
              "#46039f"
             ],
             [
              0.2222222222222222,
              "#7201a8"
             ],
             [
              0.3333333333333333,
              "#9c179e"
             ],
             [
              0.4444444444444444,
              "#bd3786"
             ],
             [
              0.5555555555555556,
              "#d8576b"
             ],
             [
              0.6666666666666666,
              "#ed7953"
             ],
             [
              0.7777777777777778,
              "#fb9f3a"
             ],
             [
              0.8888888888888888,
              "#fdca26"
             ],
             [
              1,
              "#f0f921"
             ]
            ],
            "type": "surface"
           }
          ],
          "table": [
           {
            "cells": {
             "fill": {
              "color": "#EBF0F8"
             },
             "line": {
              "color": "white"
             }
            },
            "header": {
             "fill": {
              "color": "#C8D4E3"
             },
             "line": {
              "color": "white"
             }
            },
            "type": "table"
           }
          ]
         },
         "layout": {
          "annotationdefaults": {
           "arrowcolor": "#2a3f5f",
           "arrowhead": 0,
           "arrowwidth": 1
          },
          "autotypenumbers": "strict",
          "coloraxis": {
           "colorbar": {
            "outlinewidth": 0,
            "ticks": ""
           }
          },
          "colorscale": {
           "diverging": [
            [
             0,
             "#8e0152"
            ],
            [
             0.1,
             "#c51b7d"
            ],
            [
             0.2,
             "#de77ae"
            ],
            [
             0.3,
             "#f1b6da"
            ],
            [
             0.4,
             "#fde0ef"
            ],
            [
             0.5,
             "#f7f7f7"
            ],
            [
             0.6,
             "#e6f5d0"
            ],
            [
             0.7,
             "#b8e186"
            ],
            [
             0.8,
             "#7fbc41"
            ],
            [
             0.9,
             "#4d9221"
            ],
            [
             1,
             "#276419"
            ]
           ],
           "sequential": [
            [
             0,
             "#0d0887"
            ],
            [
             0.1111111111111111,
             "#46039f"
            ],
            [
             0.2222222222222222,
             "#7201a8"
            ],
            [
             0.3333333333333333,
             "#9c179e"
            ],
            [
             0.4444444444444444,
             "#bd3786"
            ],
            [
             0.5555555555555556,
             "#d8576b"
            ],
            [
             0.6666666666666666,
             "#ed7953"
            ],
            [
             0.7777777777777778,
             "#fb9f3a"
            ],
            [
             0.8888888888888888,
             "#fdca26"
            ],
            [
             1,
             "#f0f921"
            ]
           ],
           "sequentialminus": [
            [
             0,
             "#0d0887"
            ],
            [
             0.1111111111111111,
             "#46039f"
            ],
            [
             0.2222222222222222,
             "#7201a8"
            ],
            [
             0.3333333333333333,
             "#9c179e"
            ],
            [
             0.4444444444444444,
             "#bd3786"
            ],
            [
             0.5555555555555556,
             "#d8576b"
            ],
            [
             0.6666666666666666,
             "#ed7953"
            ],
            [
             0.7777777777777778,
             "#fb9f3a"
            ],
            [
             0.8888888888888888,
             "#fdca26"
            ],
            [
             1,
             "#f0f921"
            ]
           ]
          },
          "colorway": [
           "#636efa",
           "#EF553B",
           "#00cc96",
           "#ab63fa",
           "#FFA15A",
           "#19d3f3",
           "#FF6692",
           "#B6E880",
           "#FF97FF",
           "#FECB52"
          ],
          "font": {
           "color": "#2a3f5f"
          },
          "geo": {
           "bgcolor": "white",
           "lakecolor": "white",
           "landcolor": "#E5ECF6",
           "showlakes": true,
           "showland": true,
           "subunitcolor": "white"
          },
          "hoverlabel": {
           "align": "left"
          },
          "hovermode": "closest",
          "mapbox": {
           "style": "light"
          },
          "paper_bgcolor": "white",
          "plot_bgcolor": "#E5ECF6",
          "polar": {
           "angularaxis": {
            "gridcolor": "white",
            "linecolor": "white",
            "ticks": ""
           },
           "bgcolor": "#E5ECF6",
           "radialaxis": {
            "gridcolor": "white",
            "linecolor": "white",
            "ticks": ""
           }
          },
          "scene": {
           "xaxis": {
            "backgroundcolor": "#E5ECF6",
            "gridcolor": "white",
            "gridwidth": 2,
            "linecolor": "white",
            "showbackground": true,
            "ticks": "",
            "zerolinecolor": "white"
           },
           "yaxis": {
            "backgroundcolor": "#E5ECF6",
            "gridcolor": "white",
            "gridwidth": 2,
            "linecolor": "white",
            "showbackground": true,
            "ticks": "",
            "zerolinecolor": "white"
           },
           "zaxis": {
            "backgroundcolor": "#E5ECF6",
            "gridcolor": "white",
            "gridwidth": 2,
            "linecolor": "white",
            "showbackground": true,
            "ticks": "",
            "zerolinecolor": "white"
           }
          },
          "shapedefaults": {
           "line": {
            "color": "#2a3f5f"
           }
          },
          "ternary": {
           "aaxis": {
            "gridcolor": "white",
            "linecolor": "white",
            "ticks": ""
           },
           "baxis": {
            "gridcolor": "white",
            "linecolor": "white",
            "ticks": ""
           },
           "bgcolor": "#E5ECF6",
           "caxis": {
            "gridcolor": "white",
            "linecolor": "white",
            "ticks": ""
           }
          },
          "title": {
           "x": 0.05
          },
          "xaxis": {
           "automargin": true,
           "gridcolor": "white",
           "linecolor": "white",
           "ticks": "",
           "title": {
            "standoff": 15
           },
           "zerolinecolor": "white",
           "zerolinewidth": 2
          },
          "yaxis": {
           "automargin": true,
           "gridcolor": "white",
           "linecolor": "white",
           "ticks": "",
           "title": {
            "standoff": 15
           },
           "zerolinecolor": "white",
           "zerolinewidth": 2
          }
         }
        },
        "width": 800,
        "xaxis": {
         "dtick": 1,
         "tickfont": {
          "size": 16
         },
         "tickmode": "linear",
         "ticktext": [
          "1",
          "2",
          "3",
          "4",
          "5",
          "6",
          "7",
          "8",
          "9",
          "10",
          "11",
          "12",
          "13",
          "14"
         ],
         "tickvals": [
          1,
          2,
          3,
          4,
          5,
          6,
          7,
          8,
          9,
          10,
          11,
          12,
          13,
          14
         ],
         "title": {
          "font": {
           "size": 22
          },
          "text": "Número de QIDs"
         }
        },
        "yaxis": {
         "tickfont": {
          "size": 16
         },
         "title": {
          "font": {
           "size": 22
          },
          "text": "Métrica"
         },
         "type": "log"
        }
       }
      }
     },
     "metadata": {},
     "output_type": "display_data"
    }
   ],
   "source": [
    "# Calcular medianas por número de QIDs\n",
    "medians = merged_df.groupby('num_QIDs')[['accuracy', 'risk_distance']].median().reset_index()\n",
    "\n",
    "x = medians['num_QIDs']\n",
    "y_acc = medians['accuracy']\n",
    "y_risk = medians['risk_distance']\n",
    "y_ratio = y_risk / y_acc\n",
    "\n",
    "\n",
    "fig = go.Figure()\n",
    "fig.add_trace(go.Scatter(\n",
    "    x=x, \n",
    "    y=y_acc, \n",
    "    mode='lines+markers', \n",
    "    name='Accuracy', \n",
    "    line=dict(color='blue', width=3),\n",
    "    marker=dict(size=10, symbol='circle')\n",
    "\n",
    "))\n",
    "fig.add_trace(go.Scatter(\n",
    "    x=x, \n",
    "    y=y_risk, \n",
    "    mode='lines+markers', \n",
    "    name='Risk Distance', \n",
    "    line=dict(color='red', width=3),\n",
    "    marker=dict(size=10, symbol='circle')\n",
    "\n",
    "))\n",
    "fig.update_layout(\n",
    "    # title='Medianas: Accuracy y Risk Distance por Número de QIDs',\n",
    "    xaxis_title='Número de QIDs',\n",
    "    yaxis_title='Métrica',\n",
    "    legend=dict(\n",
    "        orientation='h',\n",
    "        yanchor='bottom',\n",
    "        y=-0.25,\n",
    "        xanchor='center',\n",
    "        x=0.5,\n",
    "        font=dict(size=16),\n",
    "        title=dict(font=dict(size=18))\n",
    "    ),\n",
    "    xaxis=dict(\n",
    "        tickmode='linear', \n",
    "        dtick=1,\n",
    "        title_font=dict(size=22),\n",
    "        tickfont=dict(size=16),\n",
    "        tickvals=sorted(merged_df['num_QIDs'].unique()),\n",
    "        ticktext=[str(int(val)) for val in sorted(merged_df['num_QIDs'].unique())]\n",
    "    ),\n",
    "    yaxis=dict(\n",
    "        title_font=dict(size=22),\n",
    "        tickfont=dict(size=16),\n",
    "        # tickvals=[1, 0.8, 0.6, 0.4, 0.2, 0],\n",
    "        # ticktext=[str(val) for val in [1, 0.8, 0.6, 0.4, 0.2, 0]],\n",
    "        type='log'\n",
    "    ),\n",
    "    margin=dict(l=0, r=0, t=0, b=0),\n",
    "    height=400,\n",
    "    width=800\n",
    ")\n",
    "fig.write_image(\"../Memoria/images/graphs/usability-anonymity-vs-num_qids.png\")\n",
    "fig.show()\n"
   ]
  },
  {
   "cell_type": "code",
   "execution_count": 46,
   "id": "cda8795b",
   "metadata": {},
   "outputs": [],
   "source": [
    "hier_path = '../data/adults/hierarchies/'\n",
    "def load_hierarchies(hier_path) -> dict:\n",
    "    \"\"\"\n",
    "    Carga las jerarquías desde archivos CSV en el directorio especificado.\n",
    "    Cada archivo debe tener un nombre que comience con el atributo seguido de '_jerarquia.csv'.\n",
    "    Devuelve un diccionario donde la clave es el atributo y el valor es un DataFrame de pandas.\n",
    "    \"\"\"\n",
    "    hierarchies = {}\n",
    "    for f in os.listdir(hier_path):\n",
    "        if f.endswith('.csv'):\n",
    "            attr = f.split('_')[0]  # Asumimos que el nombre del archivo es 'atributo_jerarquia.csv'\n",
    "            hier_df = pd.read_csv(os.path.join(hier_path, f), index_col=0)\n",
    "            # Convertimos el DataFrame a un diccionario donde el índice del DataFrame es la clave y la fila es el valor\n",
    "            hierarchies[attr] = hier_df.to_dict(orient='dict')\n",
    "    return hierarchies\n",
    "\n",
    "def get_hierarchy_dict(levels: str) -> dict:\n",
    "    \"\"\"\n",
    "    Obtiene un diccionario con la jerarquía de niveles proveniente de una cadena de la forma:\n",
    "    \\n**Ejemplo de entrada **: *\"{'level1': '1/3', 'level2': '2/3', 'level3': '0/3'}\"*.\n",
    "    \\nDevuelve un diccionario con la fracción del valor de cada nivel, excluyendo aquellos con valor 0.\n",
    "    \\n**Ejemplo de salida**: *{'level1': 1/3 , 'level2': 2/3}*.\n",
    "    Args:\n",
    "        levels (str): Cadena que representa los niveles y sus valores en formato 'nivel: valor/total'.\n",
    "    Returns:\n",
    "        dict: Diccionario con los niveles y sus valores, excluyendo aquellos con valor 0.\n",
    "    \"\"\"\n",
    "    levels = re.findall(r\"'[\\w-]+': '\\d/\\d'\", levels)  \n",
    "    hier_dict =  {k.strip(\"'\"): (l.strip(\"'\").split(\"/\")[0],l.strip(\"'\").split(\"/\")[1]) for k, l in (x.split(': ') for x in levels)}\n",
    "    return {k: v for k, v in hier_dict.items()}"
   ]
  },
  {
   "cell_type": "code",
   "execution_count": 47,
   "id": "1c7687fe",
   "metadata": {},
   "outputs": [],
   "source": [
    "# Vamos a calcular la pérdida de información para cada uno de los dataframes\n",
    "hierarchies = load_hierarchies(hier_path)\n",
    "\n",
    "# Para una cadena de generalización de QIDs \"{'age': '1/3', 'education': '2/3', 'occupation': '1/3'}\"\n",
    "# 1/num_total_qids * sum(generalization_level) -> 1/14 * (1/3 + 2/3 + 1/3) = 1/14 * 4/3 = 4/42 = 0.095238\n",
    "\n",
    "\n",
    "def calculate_information_loss(generalization_str: str) -> float:\n",
    "    generalization_dict = get_hierarchy_dict(generalization_str)\n",
    "    v = []\n",
    "    for k, (l, r) in generalization_dict.items():\n",
    "        if l == '0':\n",
    "            v.append(0)\n",
    "            continue\n",
    "        elif l == r:\n",
    "            v.append(1)\n",
    "            continue\n",
    "        # Obtenemos un ejemplo entre los valores del nivel l de la jerarquía\n",
    "        elem = list(hierarchies[k][l].values())[0]\n",
    "        pattern = re.compile(r'\\d+-\\d+')\n",
    "        # Si es nivel de generalización numérico\n",
    "        if pattern.fullmatch(elem):\n",
    "            # Extraemos el valor numérico del nivel de generalización\n",
    "            num_values = [int(x) for x in elem.split('-')]\n",
    "            # Calculamos la fracción de generalización\n",
    "            generalization_fraction = (num_values[1]-num_values[0] + 1) / len(hierarchies[k]['1'])\n",
    "        # Si es nivel de generalización categórico\n",
    "        else:\n",
    "            generalization_fraction = 1 - len(set(hierarchies[k][l].values())) / len(set(hierarchies[k]['1'].keys()))\n",
    "        v.append(generalization_fraction)\n",
    "    # Calculamos la pérdida de información\n",
    "    num_total_qids = len(hierarchies)\n",
    "    return (1 / num_total_qids) * sum(v)"
   ]
  },
  {
   "cell_type": "code",
   "execution_count": 48,
   "id": "9f44bae6",
   "metadata": {},
   "outputs": [
    {
     "data": {
      "text/plain": [
       "0.16249999999999998"
      ]
     },
     "execution_count": 48,
     "metadata": {},
     "output_type": "execute_result"
    }
   ],
   "source": [
    "calculate_information_loss(\"{'age': '4/5', 'sex': '1/1', 'education': '2/3'}\")  # Ejemplo de uso"
   ]
  },
  {
   "cell_type": "code",
   "execution_count": 49,
   "id": "67b46111",
   "metadata": {},
   "outputs": [],
   "source": [
    "# Añadimos la columna de información de pérdida al DataFrame\n",
    "merged_df['information_loss'] = merged_df['Generalization Levels'].apply(calculate_information_loss)"
   ]
  },
  {
   "cell_type": "code",
   "execution_count": 50,
   "id": "8156d8b0",
   "metadata": {},
   "outputs": [
    {
     "data": {
      "application/vnd.plotly.v1+json": {
       "config": {
        "plotlyServerURL": "https://plot.ly"
       },
       "data": [
        {
         "line": {
          "color": "green",
          "width": 3
         },
         "marker": {
          "size": 10,
          "symbol": "circle"
         },
         "mode": "lines+markers",
         "name": "Information Loss",
         "type": "scatter",
         "x": {
          "bdata": "AQIDBAUGBwgJCgsMDQ4=",
          "dtype": "i1"
         },
         "y": {
          "bdata": "Fl/xFV/xdT+SJEmSJEmyP5IkSZIkScI/kiRJkiRJyj+3bdu2bdvQP6EO6qAO6tQ/O2oR8tfs2D/btm3btm3bPwAAAAAAAOA/nIKXU/By4j8rvuIrvuLlP431obE+NOg/IBrrQ2N96j+yPjTWh8bsPw==",
          "dtype": "f8"
         }
        },
        {
         "line": {
          "color": "blue",
          "width": 3
         },
         "marker": {
          "size": 10,
          "symbol": "circle"
         },
         "mode": "lines+markers",
         "name": "Accuracy",
         "type": "scatter",
         "x": {
          "bdata": "AQIDBAUGBwgJCgsMDQ4=",
          "dtype": "i1"
         },
         "y": {
          "bdata": "xIL/3v4p7D9BXuctIZTpP+QYYlhbIOk/+rXBpsSf6D8K/kj+cn3oP7EKPz2zWug/yDdLeOsu6D8Ihy0vWPznP3U4MhrLr+c/Zr3gip5c5z9EODl8jC/nP4//qeUGmeY/CKGZRldR4T+dbAT1/lnPPw==",
          "dtype": "f8"
         }
        }
       ],
       "layout": {
        "height": 400,
        "legend": {
         "font": {
          "size": 16
         },
         "orientation": "h",
         "title": {
          "font": {
           "size": 18
          }
         },
         "x": 0.5,
         "xanchor": "center",
         "y": -0.25,
         "yanchor": "bottom"
        },
        "margin": {
         "b": 0,
         "l": 0,
         "r": 0,
         "t": 0
        },
        "template": {
         "data": {
          "bar": [
           {
            "error_x": {
             "color": "#2a3f5f"
            },
            "error_y": {
             "color": "#2a3f5f"
            },
            "marker": {
             "line": {
              "color": "#E5ECF6",
              "width": 0.5
             },
             "pattern": {
              "fillmode": "overlay",
              "size": 10,
              "solidity": 0.2
             }
            },
            "type": "bar"
           }
          ],
          "barpolar": [
           {
            "marker": {
             "line": {
              "color": "#E5ECF6",
              "width": 0.5
             },
             "pattern": {
              "fillmode": "overlay",
              "size": 10,
              "solidity": 0.2
             }
            },
            "type": "barpolar"
           }
          ],
          "carpet": [
           {
            "aaxis": {
             "endlinecolor": "#2a3f5f",
             "gridcolor": "white",
             "linecolor": "white",
             "minorgridcolor": "white",
             "startlinecolor": "#2a3f5f"
            },
            "baxis": {
             "endlinecolor": "#2a3f5f",
             "gridcolor": "white",
             "linecolor": "white",
             "minorgridcolor": "white",
             "startlinecolor": "#2a3f5f"
            },
            "type": "carpet"
           }
          ],
          "choropleth": [
           {
            "colorbar": {
             "outlinewidth": 0,
             "ticks": ""
            },
            "type": "choropleth"
           }
          ],
          "contour": [
           {
            "colorbar": {
             "outlinewidth": 0,
             "ticks": ""
            },
            "colorscale": [
             [
              0,
              "#0d0887"
             ],
             [
              0.1111111111111111,
              "#46039f"
             ],
             [
              0.2222222222222222,
              "#7201a8"
             ],
             [
              0.3333333333333333,
              "#9c179e"
             ],
             [
              0.4444444444444444,
              "#bd3786"
             ],
             [
              0.5555555555555556,
              "#d8576b"
             ],
             [
              0.6666666666666666,
              "#ed7953"
             ],
             [
              0.7777777777777778,
              "#fb9f3a"
             ],
             [
              0.8888888888888888,
              "#fdca26"
             ],
             [
              1,
              "#f0f921"
             ]
            ],
            "type": "contour"
           }
          ],
          "contourcarpet": [
           {
            "colorbar": {
             "outlinewidth": 0,
             "ticks": ""
            },
            "type": "contourcarpet"
           }
          ],
          "heatmap": [
           {
            "colorbar": {
             "outlinewidth": 0,
             "ticks": ""
            },
            "colorscale": [
             [
              0,
              "#0d0887"
             ],
             [
              0.1111111111111111,
              "#46039f"
             ],
             [
              0.2222222222222222,
              "#7201a8"
             ],
             [
              0.3333333333333333,
              "#9c179e"
             ],
             [
              0.4444444444444444,
              "#bd3786"
             ],
             [
              0.5555555555555556,
              "#d8576b"
             ],
             [
              0.6666666666666666,
              "#ed7953"
             ],
             [
              0.7777777777777778,
              "#fb9f3a"
             ],
             [
              0.8888888888888888,
              "#fdca26"
             ],
             [
              1,
              "#f0f921"
             ]
            ],
            "type": "heatmap"
           }
          ],
          "histogram": [
           {
            "marker": {
             "pattern": {
              "fillmode": "overlay",
              "size": 10,
              "solidity": 0.2
             }
            },
            "type": "histogram"
           }
          ],
          "histogram2d": [
           {
            "colorbar": {
             "outlinewidth": 0,
             "ticks": ""
            },
            "colorscale": [
             [
              0,
              "#0d0887"
             ],
             [
              0.1111111111111111,
              "#46039f"
             ],
             [
              0.2222222222222222,
              "#7201a8"
             ],
             [
              0.3333333333333333,
              "#9c179e"
             ],
             [
              0.4444444444444444,
              "#bd3786"
             ],
             [
              0.5555555555555556,
              "#d8576b"
             ],
             [
              0.6666666666666666,
              "#ed7953"
             ],
             [
              0.7777777777777778,
              "#fb9f3a"
             ],
             [
              0.8888888888888888,
              "#fdca26"
             ],
             [
              1,
              "#f0f921"
             ]
            ],
            "type": "histogram2d"
           }
          ],
          "histogram2dcontour": [
           {
            "colorbar": {
             "outlinewidth": 0,
             "ticks": ""
            },
            "colorscale": [
             [
              0,
              "#0d0887"
             ],
             [
              0.1111111111111111,
              "#46039f"
             ],
             [
              0.2222222222222222,
              "#7201a8"
             ],
             [
              0.3333333333333333,
              "#9c179e"
             ],
             [
              0.4444444444444444,
              "#bd3786"
             ],
             [
              0.5555555555555556,
              "#d8576b"
             ],
             [
              0.6666666666666666,
              "#ed7953"
             ],
             [
              0.7777777777777778,
              "#fb9f3a"
             ],
             [
              0.8888888888888888,
              "#fdca26"
             ],
             [
              1,
              "#f0f921"
             ]
            ],
            "type": "histogram2dcontour"
           }
          ],
          "mesh3d": [
           {
            "colorbar": {
             "outlinewidth": 0,
             "ticks": ""
            },
            "type": "mesh3d"
           }
          ],
          "parcoords": [
           {
            "line": {
             "colorbar": {
              "outlinewidth": 0,
              "ticks": ""
             }
            },
            "type": "parcoords"
           }
          ],
          "pie": [
           {
            "automargin": true,
            "type": "pie"
           }
          ],
          "scatter": [
           {
            "fillpattern": {
             "fillmode": "overlay",
             "size": 10,
             "solidity": 0.2
            },
            "type": "scatter"
           }
          ],
          "scatter3d": [
           {
            "line": {
             "colorbar": {
              "outlinewidth": 0,
              "ticks": ""
             }
            },
            "marker": {
             "colorbar": {
              "outlinewidth": 0,
              "ticks": ""
             }
            },
            "type": "scatter3d"
           }
          ],
          "scattercarpet": [
           {
            "marker": {
             "colorbar": {
              "outlinewidth": 0,
              "ticks": ""
             }
            },
            "type": "scattercarpet"
           }
          ],
          "scattergeo": [
           {
            "marker": {
             "colorbar": {
              "outlinewidth": 0,
              "ticks": ""
             }
            },
            "type": "scattergeo"
           }
          ],
          "scattergl": [
           {
            "marker": {
             "colorbar": {
              "outlinewidth": 0,
              "ticks": ""
             }
            },
            "type": "scattergl"
           }
          ],
          "scattermap": [
           {
            "marker": {
             "colorbar": {
              "outlinewidth": 0,
              "ticks": ""
             }
            },
            "type": "scattermap"
           }
          ],
          "scattermapbox": [
           {
            "marker": {
             "colorbar": {
              "outlinewidth": 0,
              "ticks": ""
             }
            },
            "type": "scattermapbox"
           }
          ],
          "scatterpolar": [
           {
            "marker": {
             "colorbar": {
              "outlinewidth": 0,
              "ticks": ""
             }
            },
            "type": "scatterpolar"
           }
          ],
          "scatterpolargl": [
           {
            "marker": {
             "colorbar": {
              "outlinewidth": 0,
              "ticks": ""
             }
            },
            "type": "scatterpolargl"
           }
          ],
          "scatterternary": [
           {
            "marker": {
             "colorbar": {
              "outlinewidth": 0,
              "ticks": ""
             }
            },
            "type": "scatterternary"
           }
          ],
          "surface": [
           {
            "colorbar": {
             "outlinewidth": 0,
             "ticks": ""
            },
            "colorscale": [
             [
              0,
              "#0d0887"
             ],
             [
              0.1111111111111111,
              "#46039f"
             ],
             [
              0.2222222222222222,
              "#7201a8"
             ],
             [
              0.3333333333333333,
              "#9c179e"
             ],
             [
              0.4444444444444444,
              "#bd3786"
             ],
             [
              0.5555555555555556,
              "#d8576b"
             ],
             [
              0.6666666666666666,
              "#ed7953"
             ],
             [
              0.7777777777777778,
              "#fb9f3a"
             ],
             [
              0.8888888888888888,
              "#fdca26"
             ],
             [
              1,
              "#f0f921"
             ]
            ],
            "type": "surface"
           }
          ],
          "table": [
           {
            "cells": {
             "fill": {
              "color": "#EBF0F8"
             },
             "line": {
              "color": "white"
             }
            },
            "header": {
             "fill": {
              "color": "#C8D4E3"
             },
             "line": {
              "color": "white"
             }
            },
            "type": "table"
           }
          ]
         },
         "layout": {
          "annotationdefaults": {
           "arrowcolor": "#2a3f5f",
           "arrowhead": 0,
           "arrowwidth": 1
          },
          "autotypenumbers": "strict",
          "coloraxis": {
           "colorbar": {
            "outlinewidth": 0,
            "ticks": ""
           }
          },
          "colorscale": {
           "diverging": [
            [
             0,
             "#8e0152"
            ],
            [
             0.1,
             "#c51b7d"
            ],
            [
             0.2,
             "#de77ae"
            ],
            [
             0.3,
             "#f1b6da"
            ],
            [
             0.4,
             "#fde0ef"
            ],
            [
             0.5,
             "#f7f7f7"
            ],
            [
             0.6,
             "#e6f5d0"
            ],
            [
             0.7,
             "#b8e186"
            ],
            [
             0.8,
             "#7fbc41"
            ],
            [
             0.9,
             "#4d9221"
            ],
            [
             1,
             "#276419"
            ]
           ],
           "sequential": [
            [
             0,
             "#0d0887"
            ],
            [
             0.1111111111111111,
             "#46039f"
            ],
            [
             0.2222222222222222,
             "#7201a8"
            ],
            [
             0.3333333333333333,
             "#9c179e"
            ],
            [
             0.4444444444444444,
             "#bd3786"
            ],
            [
             0.5555555555555556,
             "#d8576b"
            ],
            [
             0.6666666666666666,
             "#ed7953"
            ],
            [
             0.7777777777777778,
             "#fb9f3a"
            ],
            [
             0.8888888888888888,
             "#fdca26"
            ],
            [
             1,
             "#f0f921"
            ]
           ],
           "sequentialminus": [
            [
             0,
             "#0d0887"
            ],
            [
             0.1111111111111111,
             "#46039f"
            ],
            [
             0.2222222222222222,
             "#7201a8"
            ],
            [
             0.3333333333333333,
             "#9c179e"
            ],
            [
             0.4444444444444444,
             "#bd3786"
            ],
            [
             0.5555555555555556,
             "#d8576b"
            ],
            [
             0.6666666666666666,
             "#ed7953"
            ],
            [
             0.7777777777777778,
             "#fb9f3a"
            ],
            [
             0.8888888888888888,
             "#fdca26"
            ],
            [
             1,
             "#f0f921"
            ]
           ]
          },
          "colorway": [
           "#636efa",
           "#EF553B",
           "#00cc96",
           "#ab63fa",
           "#FFA15A",
           "#19d3f3",
           "#FF6692",
           "#B6E880",
           "#FF97FF",
           "#FECB52"
          ],
          "font": {
           "color": "#2a3f5f"
          },
          "geo": {
           "bgcolor": "white",
           "lakecolor": "white",
           "landcolor": "#E5ECF6",
           "showlakes": true,
           "showland": true,
           "subunitcolor": "white"
          },
          "hoverlabel": {
           "align": "left"
          },
          "hovermode": "closest",
          "mapbox": {
           "style": "light"
          },
          "paper_bgcolor": "white",
          "plot_bgcolor": "#E5ECF6",
          "polar": {
           "angularaxis": {
            "gridcolor": "white",
            "linecolor": "white",
            "ticks": ""
           },
           "bgcolor": "#E5ECF6",
           "radialaxis": {
            "gridcolor": "white",
            "linecolor": "white",
            "ticks": ""
           }
          },
          "scene": {
           "xaxis": {
            "backgroundcolor": "#E5ECF6",
            "gridcolor": "white",
            "gridwidth": 2,
            "linecolor": "white",
            "showbackground": true,
            "ticks": "",
            "zerolinecolor": "white"
           },
           "yaxis": {
            "backgroundcolor": "#E5ECF6",
            "gridcolor": "white",
            "gridwidth": 2,
            "linecolor": "white",
            "showbackground": true,
            "ticks": "",
            "zerolinecolor": "white"
           },
           "zaxis": {
            "backgroundcolor": "#E5ECF6",
            "gridcolor": "white",
            "gridwidth": 2,
            "linecolor": "white",
            "showbackground": true,
            "ticks": "",
            "zerolinecolor": "white"
           }
          },
          "shapedefaults": {
           "line": {
            "color": "#2a3f5f"
           }
          },
          "ternary": {
           "aaxis": {
            "gridcolor": "white",
            "linecolor": "white",
            "ticks": ""
           },
           "baxis": {
            "gridcolor": "white",
            "linecolor": "white",
            "ticks": ""
           },
           "bgcolor": "#E5ECF6",
           "caxis": {
            "gridcolor": "white",
            "linecolor": "white",
            "ticks": ""
           }
          },
          "title": {
           "x": 0.05
          },
          "xaxis": {
           "automargin": true,
           "gridcolor": "white",
           "linecolor": "white",
           "ticks": "",
           "title": {
            "standoff": 15
           },
           "zerolinecolor": "white",
           "zerolinewidth": 2
          },
          "yaxis": {
           "automargin": true,
           "gridcolor": "white",
           "linecolor": "white",
           "ticks": "",
           "title": {
            "standoff": 15
           },
           "zerolinecolor": "white",
           "zerolinewidth": 2
          }
         }
        },
        "width": 800,
        "xaxis": {
         "dtick": 1,
         "tickfont": {
          "size": 16
         },
         "tickmode": "linear",
         "ticktext": [
          "1",
          "2",
          "3",
          "4",
          "5",
          "6",
          "7",
          "8",
          "9",
          "10",
          "11",
          "12",
          "13",
          "14"
         ],
         "tickvals": [
          1,
          2,
          3,
          4,
          5,
          6,
          7,
          8,
          9,
          10,
          11,
          12,
          13,
          14
         ],
         "title": {
          "font": {
           "size": 22
          },
          "text": "Número de QIDs"
         }
        },
        "yaxis": {
         "tickfont": {
          "size": 16
         },
         "ticktext": [
          "1",
          "0.8",
          "0.6",
          "0.4",
          "0.2",
          "0"
         ],
         "tickvals": [
          1,
          0.8,
          0.6,
          0.4,
          0.2,
          0
         ],
         "title": {
          "font": {
           "size": 22
          },
          "text": "Métrica"
         }
        }
       }
      }
     },
     "metadata": {},
     "output_type": "display_data"
    }
   ],
   "source": [
    "fig_box = go.Figure()\n",
    "fig_box.add_trace(go.Scatter(\n",
    "    x=medians['num_QIDs'],\n",
    "    y=medians['information_loss'] if 'information_loss' in medians else merged_df.groupby('num_QIDs')['information_loss'].median().values,\n",
    "    mode='lines+markers',\n",
    "    name='Information Loss',\n",
    "    line=dict(color='green', width=3),\n",
    "    marker=dict(size=10, symbol='circle')\n",
    "))\n",
    "fig_box.add_trace(go.Scatter(\n",
    "    x=medians['num_QIDs'],\n",
    "    y=medians['accuracy'],\n",
    "    mode='lines+markers',\n",
    "    name='Accuracy',\n",
    "    line=dict(color='blue', width=3),\n",
    "    marker=dict(size=10, symbol='circle')\n",
    "))\n",
    "fig_box.update_layout(\n",
    "    xaxis_title='Número de QIDs',\n",
    "    yaxis_title='Métrica',\n",
    "    legend=dict(\n",
    "        orientation='h',\n",
    "        yanchor='bottom',\n",
    "        y=-0.25,\n",
    "        xanchor='center',\n",
    "        x=0.5,\n",
    "        font=dict(size=16),\n",
    "        title=dict(font=dict(size=18))\n",
    "    ),\n",
    "    xaxis=dict(\n",
    "        tickmode='linear', \n",
    "        dtick=1,\n",
    "        title_font=dict(size=22),\n",
    "        tickfont=dict(size=16),\n",
    "        tickvals=sorted(merged_df['num_QIDs'].unique()),\n",
    "        ticktext=[str(int(val)) for val in sorted(merged_df['num_QIDs'].unique())]\n",
    "    ),\n",
    "    yaxis=dict(\n",
    "        title_font=dict(size=22),\n",
    "        tickfont=dict(size=16),\n",
    "        tickvals=[1, 0.8, 0.6, 0.4, 0.2, 0],\n",
    "        ticktext=[str(val) for val in [1, 0.8, 0.6, 0.4, 0.2, 0]]\n",
    "        ),\n",
    "    margin=dict(l=0, r=0, t=0, b=0),\n",
    "    height=400,\n",
    "    width=800\n",
    ")\n",
    "fig_box.write_image(\"../Memoria/images/graphs/accuracy-and-info_loss-vs-num_qids.png\")\n",
    "fig_box.show()\n"
   ]
  },
  {
   "cell_type": "code",
   "execution_count": 51,
   "id": "2dd14860",
   "metadata": {},
   "outputs": [
    {
     "data": {
      "application/vnd.plotly.v1+json": {
       "config": {
        "plotlyServerURL": "https://plot.ly"
       },
       "data": [
        {
         "hovertemplate": "Pérdida de Información=%{x}<br>Accuracy=%{y}<extra></extra>",
         "legendgroup": "",
         "marker": {
          "color": "#636efa",
          "opacity": 0.5,
          "size": 6,
          "symbol": "circle"
         },
         "mode": "markers",
         "name": "",
         "showlegend": false,
         "type": "scattergl",
         "x": {
          "bdata": "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",
          "dtype": "f8"
         },
         "xaxis": "x",
         "y": {
          "bdata": "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",
          "dtype": "f8"
         },
         "yaxis": "y"
        },
        {
         "hovertemplate": "<b>OLS trendline</b><br>accuracy = -0.195042 * information_loss + 0.813621<br>R<sup>2</sup>=0.127816<br><br>Pérdida de Información=%{x}<br>Accuracy=%{y} <b>(trend)</b><extra></extra>",
         "legendgroup": "",
         "marker": {
          "color": "#636efa",
          "opacity": 0.5,
          "size": 6,
          "symbol": "circle"
         },
         "mode": "lines",
         "name": "",
         "showlegend": false,
         "type": "scattergl",
         "x": {
          "bdata": "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",
          "dtype": "f8"
         },
         "xaxis": "x",
         "y": {
          "bdata": "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",
          "dtype": "f8"
         },
         "yaxis": "y"
        }
       ],
       "layout": {
        "legend": {
         "tracegroupgap": 0
        },
        "margin": {
         "t": 60
        },
        "template": {
         "data": {
          "bar": [
           {
            "error_x": {
             "color": "#2a3f5f"
            },
            "error_y": {
             "color": "#2a3f5f"
            },
            "marker": {
             "line": {
              "color": "#E5ECF6",
              "width": 0.5
             },
             "pattern": {
              "fillmode": "overlay",
              "size": 10,
              "solidity": 0.2
             }
            },
            "type": "bar"
           }
          ],
          "barpolar": [
           {
            "marker": {
             "line": {
              "color": "#E5ECF6",
              "width": 0.5
             },
             "pattern": {
              "fillmode": "overlay",
              "size": 10,
              "solidity": 0.2
             }
            },
            "type": "barpolar"
           }
          ],
          "carpet": [
           {
            "aaxis": {
             "endlinecolor": "#2a3f5f",
             "gridcolor": "white",
             "linecolor": "white",
             "minorgridcolor": "white",
             "startlinecolor": "#2a3f5f"
            },
            "baxis": {
             "endlinecolor": "#2a3f5f",
             "gridcolor": "white",
             "linecolor": "white",
             "minorgridcolor": "white",
             "startlinecolor": "#2a3f5f"
            },
            "type": "carpet"
           }
          ],
          "choropleth": [
           {
            "colorbar": {
             "outlinewidth": 0,
             "ticks": ""
            },
            "type": "choropleth"
           }
          ],
          "contour": [
           {
            "colorbar": {
             "outlinewidth": 0,
             "ticks": ""
            },
            "colorscale": [
             [
              0,
              "#0d0887"
             ],
             [
              0.1111111111111111,
              "#46039f"
             ],
             [
              0.2222222222222222,
              "#7201a8"
             ],
             [
              0.3333333333333333,
              "#9c179e"
             ],
             [
              0.4444444444444444,
              "#bd3786"
             ],
             [
              0.5555555555555556,
              "#d8576b"
             ],
             [
              0.6666666666666666,
              "#ed7953"
             ],
             [
              0.7777777777777778,
              "#fb9f3a"
             ],
             [
              0.8888888888888888,
              "#fdca26"
             ],
             [
              1,
              "#f0f921"
             ]
            ],
            "type": "contour"
           }
          ],
          "contourcarpet": [
           {
            "colorbar": {
             "outlinewidth": 0,
             "ticks": ""
            },
            "type": "contourcarpet"
           }
          ],
          "heatmap": [
           {
            "colorbar": {
             "outlinewidth": 0,
             "ticks": ""
            },
            "colorscale": [
             [
              0,
              "#0d0887"
             ],
             [
              0.1111111111111111,
              "#46039f"
             ],
             [
              0.2222222222222222,
              "#7201a8"
             ],
             [
              0.3333333333333333,
              "#9c179e"
             ],
             [
              0.4444444444444444,
              "#bd3786"
             ],
             [
              0.5555555555555556,
              "#d8576b"
             ],
             [
              0.6666666666666666,
              "#ed7953"
             ],
             [
              0.7777777777777778,
              "#fb9f3a"
             ],
             [
              0.8888888888888888,
              "#fdca26"
             ],
             [
              1,
              "#f0f921"
             ]
            ],
            "type": "heatmap"
           }
          ],
          "histogram": [
           {
            "marker": {
             "pattern": {
              "fillmode": "overlay",
              "size": 10,
              "solidity": 0.2
             }
            },
            "type": "histogram"
           }
          ],
          "histogram2d": [
           {
            "colorbar": {
             "outlinewidth": 0,
             "ticks": ""
            },
            "colorscale": [
             [
              0,
              "#0d0887"
             ],
             [
              0.1111111111111111,
              "#46039f"
             ],
             [
              0.2222222222222222,
              "#7201a8"
             ],
             [
              0.3333333333333333,
              "#9c179e"
             ],
             [
              0.4444444444444444,
              "#bd3786"
             ],
             [
              0.5555555555555556,
              "#d8576b"
             ],
             [
              0.6666666666666666,
              "#ed7953"
             ],
             [
              0.7777777777777778,
              "#fb9f3a"
             ],
             [
              0.8888888888888888,
              "#fdca26"
             ],
             [
              1,
              "#f0f921"
             ]
            ],
            "type": "histogram2d"
           }
          ],
          "histogram2dcontour": [
           {
            "colorbar": {
             "outlinewidth": 0,
             "ticks": ""
            },
            "colorscale": [
             [
              0,
              "#0d0887"
             ],
             [
              0.1111111111111111,
              "#46039f"
             ],
             [
              0.2222222222222222,
              "#7201a8"
             ],
             [
              0.3333333333333333,
              "#9c179e"
             ],
             [
              0.4444444444444444,
              "#bd3786"
             ],
             [
              0.5555555555555556,
              "#d8576b"
             ],
             [
              0.6666666666666666,
              "#ed7953"
             ],
             [
              0.7777777777777778,
              "#fb9f3a"
             ],
             [
              0.8888888888888888,
              "#fdca26"
             ],
             [
              1,
              "#f0f921"
             ]
            ],
            "type": "histogram2dcontour"
           }
          ],
          "mesh3d": [
           {
            "colorbar": {
             "outlinewidth": 0,
             "ticks": ""
            },
            "type": "mesh3d"
           }
          ],
          "parcoords": [
           {
            "line": {
             "colorbar": {
              "outlinewidth": 0,
              "ticks": ""
             }
            },
            "type": "parcoords"
           }
          ],
          "pie": [
           {
            "automargin": true,
            "type": "pie"
           }
          ],
          "scatter": [
           {
            "fillpattern": {
             "fillmode": "overlay",
             "size": 10,
             "solidity": 0.2
            },
            "type": "scatter"
           }
          ],
          "scatter3d": [
           {
            "line": {
             "colorbar": {
              "outlinewidth": 0,
              "ticks": ""
             }
            },
            "marker": {
             "colorbar": {
              "outlinewidth": 0,
              "ticks": ""
             }
            },
            "type": "scatter3d"
           }
          ],
          "scattercarpet": [
           {
            "marker": {
             "colorbar": {
              "outlinewidth": 0,
              "ticks": ""
             }
            },
            "type": "scattercarpet"
           }
          ],
          "scattergeo": [
           {
            "marker": {
             "colorbar": {
              "outlinewidth": 0,
              "ticks": ""
             }
            },
            "type": "scattergeo"
           }
          ],
          "scattergl": [
           {
            "marker": {
             "colorbar": {
              "outlinewidth": 0,
              "ticks": ""
             }
            },
            "type": "scattergl"
           }
          ],
          "scattermap": [
           {
            "marker": {
             "colorbar": {
              "outlinewidth": 0,
              "ticks": ""
             }
            },
            "type": "scattermap"
           }
          ],
          "scattermapbox": [
           {
            "marker": {
             "colorbar": {
              "outlinewidth": 0,
              "ticks": ""
             }
            },
            "type": "scattermapbox"
           }
          ],
          "scatterpolar": [
           {
            "marker": {
             "colorbar": {
              "outlinewidth": 0,
              "ticks": ""
             }
            },
            "type": "scatterpolar"
           }
          ],
          "scatterpolargl": [
           {
            "marker": {
             "colorbar": {
              "outlinewidth": 0,
              "ticks": ""
             }
            },
            "type": "scatterpolargl"
           }
          ],
          "scatterternary": [
           {
            "marker": {
             "colorbar": {
              "outlinewidth": 0,
              "ticks": ""
             }
            },
            "type": "scatterternary"
           }
          ],
          "surface": [
           {
            "colorbar": {
             "outlinewidth": 0,
             "ticks": ""
            },
            "colorscale": [
             [
              0,
              "#0d0887"
             ],
             [
              0.1111111111111111,
              "#46039f"
             ],
             [
              0.2222222222222222,
              "#7201a8"
             ],
             [
              0.3333333333333333,
              "#9c179e"
             ],
             [
              0.4444444444444444,
              "#bd3786"
             ],
             [
              0.5555555555555556,
              "#d8576b"
             ],
             [
              0.6666666666666666,
              "#ed7953"
             ],
             [
              0.7777777777777778,
              "#fb9f3a"
             ],
             [
              0.8888888888888888,
              "#fdca26"
             ],
             [
              1,
              "#f0f921"
             ]
            ],
            "type": "surface"
           }
          ],
          "table": [
           {
            "cells": {
             "fill": {
              "color": "#EBF0F8"
             },
             "line": {
              "color": "white"
             }
            },
            "header": {
             "fill": {
              "color": "#C8D4E3"
             },
             "line": {
              "color": "white"
             }
            },
            "type": "table"
           }
          ]
         },
         "layout": {
          "annotationdefaults": {
           "arrowcolor": "#2a3f5f",
           "arrowhead": 0,
           "arrowwidth": 1
          },
          "autotypenumbers": "strict",
          "coloraxis": {
           "colorbar": {
            "outlinewidth": 0,
            "ticks": ""
           }
          },
          "colorscale": {
           "diverging": [
            [
             0,
             "#8e0152"
            ],
            [
             0.1,
             "#c51b7d"
            ],
            [
             0.2,
             "#de77ae"
            ],
            [
             0.3,
             "#f1b6da"
            ],
            [
             0.4,
             "#fde0ef"
            ],
            [
             0.5,
             "#f7f7f7"
            ],
            [
             0.6,
             "#e6f5d0"
            ],
            [
             0.7,
             "#b8e186"
            ],
            [
             0.8,
             "#7fbc41"
            ],
            [
             0.9,
             "#4d9221"
            ],
            [
             1,
             "#276419"
            ]
           ],
           "sequential": [
            [
             0,
             "#0d0887"
            ],
            [
             0.1111111111111111,
             "#46039f"
            ],
            [
             0.2222222222222222,
             "#7201a8"
            ],
            [
             0.3333333333333333,
             "#9c179e"
            ],
            [
             0.4444444444444444,
             "#bd3786"
            ],
            [
             0.5555555555555556,
             "#d8576b"
            ],
            [
             0.6666666666666666,
             "#ed7953"
            ],
            [
             0.7777777777777778,
             "#fb9f3a"
            ],
            [
             0.8888888888888888,
             "#fdca26"
            ],
            [
             1,
             "#f0f921"
            ]
           ],
           "sequentialminus": [
            [
             0,
             "#0d0887"
            ],
            [
             0.1111111111111111,
             "#46039f"
            ],
            [
             0.2222222222222222,
             "#7201a8"
            ],
            [
             0.3333333333333333,
             "#9c179e"
            ],
            [
             0.4444444444444444,
             "#bd3786"
            ],
            [
             0.5555555555555556,
             "#d8576b"
            ],
            [
             0.6666666666666666,
             "#ed7953"
            ],
            [
             0.7777777777777778,
             "#fb9f3a"
            ],
            [
             0.8888888888888888,
             "#fdca26"
            ],
            [
             1,
             "#f0f921"
            ]
           ]
          },
          "colorway": [
           "#636efa",
           "#EF553B",
           "#00cc96",
           "#ab63fa",
           "#FFA15A",
           "#19d3f3",
           "#FF6692",
           "#B6E880",
           "#FF97FF",
           "#FECB52"
          ],
          "font": {
           "color": "#2a3f5f"
          },
          "geo": {
           "bgcolor": "white",
           "lakecolor": "white",
           "landcolor": "#E5ECF6",
           "showlakes": true,
           "showland": true,
           "subunitcolor": "white"
          },
          "hoverlabel": {
           "align": "left"
          },
          "hovermode": "closest",
          "mapbox": {
           "style": "light"
          },
          "paper_bgcolor": "white",
          "plot_bgcolor": "#E5ECF6",
          "polar": {
           "angularaxis": {
            "gridcolor": "white",
            "linecolor": "white",
            "ticks": ""
           },
           "bgcolor": "#E5ECF6",
           "radialaxis": {
            "gridcolor": "white",
            "linecolor": "white",
            "ticks": ""
           }
          },
          "scene": {
           "xaxis": {
            "backgroundcolor": "#E5ECF6",
            "gridcolor": "white",
            "gridwidth": 2,
            "linecolor": "white",
            "showbackground": true,
            "ticks": "",
            "zerolinecolor": "white"
           },
           "yaxis": {
            "backgroundcolor": "#E5ECF6",
            "gridcolor": "white",
            "gridwidth": 2,
            "linecolor": "white",
            "showbackground": true,
            "ticks": "",
            "zerolinecolor": "white"
           },
           "zaxis": {
            "backgroundcolor": "#E5ECF6",
            "gridcolor": "white",
            "gridwidth": 2,
            "linecolor": "white",
            "showbackground": true,
            "ticks": "",
            "zerolinecolor": "white"
           }
          },
          "shapedefaults": {
           "line": {
            "color": "#2a3f5f"
           }
          },
          "ternary": {
           "aaxis": {
            "gridcolor": "white",
            "linecolor": "white",
            "ticks": ""
           },
           "baxis": {
            "gridcolor": "white",
            "linecolor": "white",
            "ticks": ""
           },
           "bgcolor": "#E5ECF6",
           "caxis": {
            "gridcolor": "white",
            "linecolor": "white",
            "ticks": ""
           }
          },
          "title": {
           "x": 0.05
          },
          "xaxis": {
           "automargin": true,
           "gridcolor": "white",
           "linecolor": "white",
           "ticks": "",
           "title": {
            "standoff": 15
           },
           "zerolinecolor": "white",
           "zerolinewidth": 2
          },
          "yaxis": {
           "automargin": true,
           "gridcolor": "white",
           "linecolor": "white",
           "ticks": "",
           "title": {
            "standoff": 15
           },
           "zerolinecolor": "white",
           "zerolinewidth": 2
          }
         }
        },
        "xaxis": {
         "anchor": "y",
         "domain": [
          0,
          1
         ],
         "title": {
          "text": "Pérdida de Información"
         }
        },
        "yaxis": {
         "anchor": "x",
         "domain": [
          0,
          1
         ],
         "title": {
          "text": "Accuracy"
         }
        }
       }
      }
     },
     "metadata": {},
     "output_type": "display_data"
    }
   ],
   "source": [
    "import plotly.express as px\n",
    "\n",
    "# Muestra solo una muestra aleatoria del 10% de los datos para reducir la cantidad de puntos\n",
    "sampled_df = merged_df.sample(frac=0.1, random_state=42)\n",
    "\n",
    "fig_acc_info = px.scatter(\n",
    "    sampled_df,\n",
    "    x='information_loss',\n",
    "    y='accuracy',\n",
    "    trendline='ols',\n",
    "    labels={'information_loss': 'Pérdida de Información', 'accuracy': 'Accuracy'},\n",
    "    # title='Relación entre Accuracy y Pérdida de Información'\n",
    ")\n",
    "fig_acc_info.update_traces(marker=dict(size=6, opacity=0.5))\n",
    "fig_acc_info.show()"
   ]
  },
  {
   "cell_type": "code",
   "execution_count": 52,
   "id": "3093e29c",
   "metadata": {},
   "outputs": [
    {
     "data": {
      "application/vnd.jupyter.widget-view+json": {
       "model_id": "932d1c38a2d647b08163838d2379106b",
       "version_major": 2,
       "version_minor": 0
      },
      "text/plain": [
       "IntSlider(value=10, description='Percentil:', max=90, min=10, step=10)"
      ]
     },
     "metadata": {},
     "output_type": "display_data"
    },
    {
     "data": {
      "application/vnd.jupyter.widget-view+json": {
       "model_id": "575a90002b2a4b5abb9173965dd81f09",
       "version_major": 2,
       "version_minor": 0
      },
      "text/plain": [
       "Output()"
      ]
     },
     "metadata": {},
     "output_type": "display_data"
    }
   ],
   "source": [
    "from IPython.display import clear_output\n",
    "\n",
    "# Veamos cuales son los QIDs que más aparecen en el percentil <= 10 de distancia de riesgo\n",
    "q_values = [0.1, 0.2, 0.3, 0.4, 0.5, 0.6, 0.7, 0.8, 0.9]\n",
    "\n",
    "top_risk_dict = {q: merged_df[merged_df['risk_distance'] <= merged_df['risk_distance'].quantile(q)] for q in q_values}\n",
    "top_acc_dict = {q: merged_df[merged_df['accuracy'] > merged_df['accuracy'].quantile(1-q)] for q in q_values}\n",
    "\n",
    "# Aplicamos map a los valores del diccionario para obtener las listas de QIDs\n",
    "top_risk_qids = {q: df['QIDs'].apply(lambda x: x.split(', ')).tolist() for q, df in top_risk_dict.items()}\n",
    "top_acc_qids = {q: df['QIDs'].apply(lambda x: x.split(', ')).tolist() for q, df in top_acc_dict.items()}\n",
    "\n",
    "\n",
    "fig_1_dict = {}\n",
    "# Precalculamos las figuras que muestran con un gráfico de barras los QIDs más frecuentes para un percentil dado\n",
    "for q in q_values:\n",
    "    # Nos quedamos con las sublistas de QIDs que están en ambos diccionarios como valores\n",
    "    qids_list = [sublist for sublist in top_risk_qids[q] if sublist in top_acc_qids[q] and 'sex' in sublist and 'age' in sublist]\n",
    "    # Aplanamos la lista de listas en una sola lista\n",
    "    qids_flat = [qid for sublist in qids_list for qid in sublist]\n",
    "    # Contamos las ocurrencias de cada QID\n",
    "    qid_counts = pd.Series(qids_flat).value_counts().reset_index()\n",
    "    qid_counts.columns = ['QID', 'Count']\n",
    "    \n",
    "    \n",
    "    fig_risk = px.bar(\n",
    "        # Quitamos sex y age de los QIDs para enfocarnos en los otros atributos\n",
    "        qid_counts[~qid_counts['QID'].isin(['age', 'sex', 'fnlwgt'])],\n",
    "        x='QID',\n",
    "        y='Count',\n",
    "        # title=f'Top QIDs más seleccionados que verifican Acc > {(1-q)*100}% y Risk <= {q*100}%',\n",
    "        labels={'QID': 'QIDs', 'Count': 'Frecuencia'}\n",
    "    )\n",
    "    fig_risk.update_xaxes(\n",
    "        title_font=dict(size=20),\n",
    "        tickfont=dict(size=18),\n",
    "        tickangle=30\n",
    "    )\n",
    "    fig_risk.update_layout(margin=dict(l=0, r=0, t=0, b=0))\n",
    "    fig_1_dict[q] = fig_risk\n",
    "\n",
    "# Creamos un widget de selección para elegir el percentil\n",
    "percentil_selector = widgets.IntSlider(\n",
    "    min=10,\n",
    "    max=90,\n",
    "    step=10,\n",
    "    value=10,\n",
    "    description='Percentil:',\n",
    "    readout=True,\n",
    "    readout_format='d'\n",
    ")\n",
    "output = widgets.Output()\n",
    "\n",
    "def update_plot(change):\n",
    "    with output:\n",
    "        clear_output(wait=True)\n",
    "        selected_percentil = change['new'] / 100\n",
    "        fig_1_dict[selected_percentil].show()\n",
    "\n",
    "percentil_selector.observe(update_plot, names='value')\n",
    "display(percentil_selector, output)\n",
    "# Mostramos el gráfico del percentil por defecto (10%)\n",
    "with output:\n",
    "    fig_1_dict[0.1].show()\n"
   ]
  },
  {
   "cell_type": "code",
   "execution_count": 53,
   "id": "a02c73cf",
   "metadata": {},
   "outputs": [
    {
     "data": {
      "application/vnd.jupyter.widget-view+json": {
       "model_id": "7db0e82937614e2bada698b23c85d8d7",
       "version_major": 2,
       "version_minor": 0
      },
      "text/plain": [
       "IntSlider(value=10, description='Percentil:', max=90, min=10, step=10)"
      ]
     },
     "metadata": {},
     "output_type": "display_data"
    },
    {
     "data": {
      "application/vnd.jupyter.widget-view+json": {
       "model_id": "7d70d91c88e249bda1d7ed6da1ead156",
       "version_major": 2,
       "version_minor": 0
      },
      "text/plain": [
       "Output()"
      ]
     },
     "metadata": {},
     "output_type": "display_data"
    }
   ],
   "source": [
    "from IPython.display import clear_output\n",
    "\n",
    "# Veamos cuales son los QIDs que más aparecen en el percentil <= 10 de distancia de riesgo\n",
    "q_values = [0.1, 0.2, 0.3, 0.4, 0.5, 0.6, 0.7, 0.8, 0.9]\n",
    "\n",
    "top_risk_dict = {q: merged_df[merged_df['risk_distance'] > merged_df['risk_distance'].quantile(1-q)] for q in q_values}\n",
    "top_acc_dict = {q: merged_df[merged_df['accuracy'] >= merged_df['accuracy'].quantile(q)] for q in q_values}\n",
    "\n",
    "# Aplicamos map a los valores del diccionario para obtener las listas de QIDs\n",
    "top_risk_qids = {q: df['QIDs'].apply(lambda x: x.split(', ')).tolist() for q, df in top_risk_dict.items()}\n",
    "top_acc_qids = {q: df['QIDs'].apply(lambda x: x.split(', ')).tolist() for q, df in top_acc_dict.items()}\n",
    "\n",
    "\n",
    "fig_2_dict = {}\n",
    "# Precalculamos las figuras que muestran con un gráfico de barras los QIDs más frecuentes para un percentil dado\n",
    "for q in q_values:\n",
    "    # Nos quedamos con las sublistas de QIDs que están en ambos diccionarios como valores\n",
    "    qids_list = [sublist for sublist in top_risk_qids[q] if sublist in top_acc_qids[q] and 'sex' in sublist and 'age' in sublist]\n",
    "    # Aplanamos la lista de listas en una sola lista\n",
    "    qids_flat = [qid for sublist in qids_list for qid in sublist]\n",
    "    # Contamos las ocurrencias de cada QID\n",
    "    qid_counts = pd.Series(qids_flat).value_counts().reset_index()\n",
    "    qid_counts.columns = ['QID', 'Count']\n",
    "    \n",
    "    \n",
    "    fig_risk = px.bar(\n",
    "        # Quitamos sex y age de los QIDs para enfocarnos en los otros atributos\n",
    "        qid_counts[~qid_counts['QID'].isin(['age', 'sex', 'fnlwgt'])],\n",
    "        x='QID',\n",
    "        y='Count',\n",
    "        # title=f'Top QIDs más seleccionados que verifican Acc <= {int(q*100)}% y Risk > {int((1-q)*100)}%',\n",
    "        labels={'QID': 'QIDs', 'Count': 'Frecuencia'}\n",
    "        )\n",
    "    fig_risk.update_xaxes(\n",
    "        title_font=dict(size=20),\n",
    "        tickfont=dict(size=18),\n",
    "        tickangle=30\n",
    "    )\n",
    "    fig_risk.update_xaxes(\n",
    "        title_font=dict(size=20),\n",
    "        tickfont=dict(size=18),\n",
    "    )\n",
    "    fig_risk.update_layout(margin=dict(l=0, r=0, t=0, b=0))\n",
    "    fig_2_dict[q] = fig_risk\n",
    "\n",
    "# Creamos un widget de selección para elegir el percentil\n",
    "percentil_selector = widgets.IntSlider(\n",
    "    min=10,\n",
    "    max=90,\n",
    "    step=10,\n",
    "    value=10,\n",
    "    description='Percentil:',\n",
    "    readout=True,\n",
    "    readout_format='d'\n",
    ")\n",
    "output = widgets.Output()\n",
    "\n",
    "def update_plot(change):\n",
    "    with output:\n",
    "        clear_output(wait=True)\n",
    "        selected_percentil = change['new'] / 100\n",
    "        fig_2_dict[selected_percentil].show()\n",
    "\n",
    "percentil_selector.observe(update_plot, names='value')\n",
    "display(percentil_selector, output)\n",
    "# Mostramos el gráfico del percentil por defecto (10%)\n",
    "with output:\n",
    "    fig_2_dict[0.1].show()\n"
   ]
  }
 ],
 "metadata": {
  "kernelspec": {
   "display_name": "Python 3",
   "language": "python",
   "name": "python3"
  },
  "language_info": {
   "codemirror_mode": {
    "name": "ipython",
    "version": 3
   },
   "file_extension": ".py",
   "mimetype": "text/x-python",
   "name": "python",
   "nbconvert_exporter": "python",
   "pygments_lexer": "ipython3",
   "version": "3.13.1"
  }
 },
 "nbformat": 4,
 "nbformat_minor": 5
}
